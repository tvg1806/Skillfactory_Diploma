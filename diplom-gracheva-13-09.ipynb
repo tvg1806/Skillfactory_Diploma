{
 "cells": [
  {
   "cell_type": "code",
   "execution_count": 1,
   "metadata": {
    "_cell_guid": "b1076dfc-b9ad-4769-8c92-a6c4dae69d19",
    "_uuid": "8f2839f25d086af736a60e9eeb907d3b93b6e0e5",
    "execution": {
     "iopub.execute_input": "2022-09-13T19:09:57.349950Z",
     "iopub.status.busy": "2022-09-13T19:09:57.348849Z",
     "iopub.status.idle": "2022-09-13T19:09:57.389884Z",
     "shell.execute_reply": "2022-09-13T19:09:57.389025Z",
     "shell.execute_reply.started": "2022-09-13T19:09:57.349848Z"
    }
   },
   "outputs": [
    {
     "name": "stdout",
     "output_type": "stream",
     "text": [
      "/kaggle/input/diploma/data.csv\n"
     ]
    }
   ],
   "source": [
    "# This Python 3 environment comes with many helpful analytics libraries installed\n",
    "# It is defined by the kaggle/python Docker image: https://github.com/kaggle/docker-python\n",
    "# For example, here's several helpful packages to load\n",
    "\n",
    "import numpy as np # linear algebra\n",
    "import pandas as pd # data processing, CSV file I/O (e.g. pd.read_csv)\n",
    "\n",
    "# Input data files are available in the read-only \"../input/\" directory\n",
    "# For example, running this (by clicking run or pressing Shift+Enter) will list all files under the input directory\n",
    "\n",
    "import os\n",
    "for dirname, _, filenames in os.walk('/kaggle/input'):\n",
    "    for filename in filenames:\n",
    "        print(os.path.join(dirname, filename))\n",
    "\n",
    "# You can write up to 20GB to the current directory (/kaggle/working/) that gets preserved as output when you create a version using \"Save & Run All\" \n",
    "# You can also write temporary files to /kaggle/temp/, but they won't be saved outside of the current session"
   ]
  },
  {
   "cell_type": "markdown",
   "metadata": {},
   "source": [
    "Импорты. Потом почистить."
   ]
  },
  {
   "cell_type": "code",
   "execution_count": 2,
   "metadata": {
    "execution": {
     "iopub.execute_input": "2022-09-13T19:09:57.404120Z",
     "iopub.status.busy": "2022-09-13T19:09:57.403088Z",
     "iopub.status.idle": "2022-09-13T19:10:11.771780Z",
     "shell.execute_reply": "2022-09-13T19:10:11.770765Z",
     "shell.execute_reply.started": "2022-09-13T19:09:57.404082Z"
    }
   },
   "outputs": [],
   "source": [
    "# импорт библиотек\n",
    "\n",
    "import numpy as np # linear algebra\n",
    "import pandas as pd # data processing, CSV file I/O (e.g. pd.read_csv)\n",
    "import pandas_profiling\n",
    "from pandas_profiling import ProfileReport\n",
    "import os\n",
    "import sys\n",
    "import zipfile\n",
    "import PIL\n",
    "from PIL import ImageOps, ImageFilter\n",
    "import re\n",
    "import ast\n",
    "from datetime import time, date, datetime\n",
    "import random\n",
    "\n",
    "import matplotlib.pyplot as plt\n",
    "import seaborn as sns\n",
    "%matplotlib inline\n",
    "plt.style.use('seaborn-paper')\n",
    "\n",
    "from optuna import *\n",
    "\n",
    "from sklearn.feature_extraction import DictVectorizer\n",
    "from sklearn.feature_selection import SelectKBest, chi2, f_classif, f_regression\n",
    "from sklearn.model_selection import train_test_split\n",
    "from sklearn.model_selection import KFold\n",
    "from sklearn.model_selection import cross_val_predict, cross_val_score\n",
    "from sklearn.preprocessing import OneHotEncoder, LabelEncoder, MinMaxScaler, StandardScaler, RobustScaler\n",
    "from sklearn.impute import KNNImputer\n",
    "\n",
    "from sklearn.neighbors import KNeighborsRegressor\n",
    "from sklearn.linear_model import LinearRegression\n",
    "from sklearn.linear_model import Ridge\n",
    "from sklearn.svm import SVR\n",
    "from sklearn.ensemble import ExtraTreesRegressor\n",
    "from sklearn.ensemble import BaggingRegressor\n",
    "from sklearn.metrics import mean_squared_error, f1_score, accuracy_score, roc_curve, roc_auc_score\n",
    "from sklearn import metrics\n",
    "from sklearn.ensemble import StackingRegressor\n",
    "from sklearn.ensemble import VotingRegressor\n",
    "from tqdm.notebook import tqdm\n",
    "from catboost import CatBoostRegressor, Pool, cv\n",
    "\n",
    "#image augmentation\n",
    "#import albumentations as A\n",
    "#from ImageDataAugmentor.image_data_augmentor import *\n",
    "\n",
    "# keras\n",
    "import tensorflow as tf\n",
    "import tensorflow.keras.backend as K\n",
    "import tensorflow.keras.layers as L\n",
    "from tensorflow.keras.models import Model, Sequential\n",
    "from tensorflow.keras.preprocessing.text import Tokenizer\n",
    "from tensorflow.keras.preprocessing import sequence\n",
    "from tensorflow.keras.callbacks import ModelCheckpoint, EarlyStopping, ReduceLROnPlateau\n",
    "from tensorflow.keras.applications.efficientnet import EfficientNetB3\n",
    "from tensorflow.keras.regularizers import l2\n",
    "from tensorflow.keras.losses import MeanAbsolutePercentageError\n",
    "\n",
    "from transformers import AutoTokenizer, TFAutoModelForSequenceClassification, DataCollatorWithPadding\n",
    "\n",
    "# Suppress warnings \n",
    "import warnings\n",
    "warnings.filterwarnings('ignore')\n",
    "\n",
    "\n",
    "pd.set_option('display.max_columns', 550) # больше колонок\n",
    "\n",
    "os.environ['PYTHONHASHSEED']=str(42)"
   ]
  },
  {
   "cell_type": "code",
   "execution_count": 3,
   "metadata": {
    "execution": {
     "iopub.execute_input": "2022-09-13T19:10:11.775521Z",
     "iopub.status.busy": "2022-09-13T19:10:11.774206Z",
     "iopub.status.idle": "2022-09-13T19:10:11.781477Z",
     "shell.execute_reply": "2022-09-13T19:10:11.780304Z",
     "shell.execute_reply.started": "2022-09-13T19:10:11.775470Z"
    }
   },
   "outputs": [],
   "source": [
    "RANDOM_SEED = 42\n",
    "random.seed(RANDOM_SEED)\n",
    "np.random.seed(RANDOM_SEED)\n",
    "tf.random.set_seed(RANDOM_SEED)\n",
    "ITERATIONS = 200"
   ]
  },
  {
   "cell_type": "code",
   "execution_count": 4,
   "metadata": {
    "execution": {
     "iopub.execute_input": "2022-09-13T19:10:11.783553Z",
     "iopub.status.busy": "2022-09-13T19:10:11.783178Z",
     "iopub.status.idle": "2022-09-13T19:10:11.803821Z",
     "shell.execute_reply": "2022-09-13T19:10:11.802850Z",
     "shell.execute_reply.started": "2022-09-13T19:10:11.783519Z"
    }
   },
   "outputs": [],
   "source": [
    "DIR_DATA  = '../input/diploma/'"
   ]
  },
  {
   "cell_type": "code",
   "execution_count": 5,
   "metadata": {
    "execution": {
     "iopub.execute_input": "2022-09-13T19:10:11.807356Z",
     "iopub.status.busy": "2022-09-13T19:10:11.806911Z",
     "iopub.status.idle": "2022-09-13T19:10:20.495052Z",
     "shell.execute_reply": "2022-09-13T19:10:20.493918Z",
     "shell.execute_reply.started": "2022-09-13T19:10:11.807320Z"
    }
   },
   "outputs": [],
   "source": [
    "data_d = pd.read_csv(DIR_DATA+'data.csv')"
   ]
  },
  {
   "cell_type": "markdown",
   "metadata": {},
   "source": [
    "# ВСПОМОГАТЕЛЬНЫЕ ФУНКЦИИ"
   ]
  },
  {
   "cell_type": "markdown",
   "metadata": {},
   "source": [
    "Вспомогательные функции для обработки признаков и приведения их к численному виду."
   ]
  },
  {
   "cell_type": "code",
   "execution_count": 6,
   "metadata": {
    "execution": {
     "iopub.execute_input": "2022-09-13T19:10:20.496580Z",
     "iopub.status.busy": "2022-09-13T19:10:20.496256Z",
     "iopub.status.idle": "2022-09-13T19:10:20.508158Z",
     "shell.execute_reply": "2022-09-13T19:10:20.507018Z",
     "shell.execute_reply.started": "2022-09-13T19:10:20.496542Z"
    }
   },
   "outputs": [],
   "source": [
    "def extract_several_digits_comma(stroka,first_digit,len_s,i):\n",
    "    if i==len_s and not stroka[i].isdigit():\n",
    "        return (first_digit)\n",
    "    elif i==len_s and stroka[i].isdigit():\n",
    "        \n",
    "        return (10*first_digit+int(stroka[i]))\n",
    "\n",
    "    else:\n",
    "        if stroka[i] == ',':\n",
    "            return extract_several_digits_comma(stroka, first_digit, len_s,i+1)\n",
    "        elif not stroka[i].isdigit():\n",
    "            return (first_digit)\n",
    "        \n",
    "        \n",
    "        else:\n",
    "            return extract_several_digits_comma(stroka,(10*first_digit+int(stroka[i])),len_s,i+1)\n",
    "        \n",
    "        \n",
    "def extract_num_recurr_comma(stroka,len_s,i):\n",
    "\n",
    "    if i==len_s and not stroka[i].isdigit():\n",
    "       \n",
    "        return 0\n",
    "   \n",
    "    elif i<len_s and stroka[i].isdigit():\n",
    "        \n",
    "        return extract_several_digits_comma(stroka,int(stroka[i]),len_s,i+1)\n",
    "    \n",
    "    else: return(extract_num_recurr_comma(stroka,len_s,i+1))  \n",
    "    \n",
    "    \n",
    "# основная функция для нахождения числа. На вход подается только строка, которую нужно обработать.\n",
    "\n",
    "def extract_num_comma(stroka):\n",
    "\n",
    "    len_s=len(str(stroka))-1\n",
    " \n",
    "    return extract_num_recurr_comma(str(stroka),len_s,0)\n",
    "    \n",
    "    "
   ]
  },
  {
   "cell_type": "code",
   "execution_count": 7,
   "metadata": {
    "execution": {
     "iopub.execute_input": "2022-09-13T19:10:20.510239Z",
     "iopub.status.busy": "2022-09-13T19:10:20.509858Z",
     "iopub.status.idle": "2022-09-13T19:10:20.527113Z",
     "shell.execute_reply": "2022-09-13T19:10:20.525895Z",
     "shell.execute_reply.started": "2022-09-13T19:10:20.510208Z"
    }
   },
   "outputs": [],
   "source": [
    "def extract_several_digits(stroka,first_digit,len_s,i):\n",
    "    if i==len_s and not stroka[i].isdigit():\n",
    "        return (first_digit)\n",
    "    elif i==len_s and stroka[i].isdigit():\n",
    "        \n",
    "        return (10*first_digit+int(stroka[i]))\n",
    "    else:\n",
    "        if not stroka[i].isdigit():\n",
    "            return (first_digit)\n",
    "        else:\n",
    "            return extract_several_digits(stroka,(10*first_digit+int(stroka[i])),len_s,i+1)\n",
    "    \n",
    "\n",
    "def extract_num_recurr(stroka,len_s,i):\n",
    "\n",
    "    if i==len_s and not stroka[i].isdigit():\n",
    "       \n",
    "        return 0\n",
    "   \n",
    "    elif i<len_s and stroka[i].isdigit():\n",
    "        \n",
    "        return extract_several_digits(stroka,int(stroka[i]),len_s,i+1)\n",
    "    \n",
    "    else: return(extract_num_recurr(stroka,len_s,i+1))\n",
    "        \n",
    "# основная функция для нахождения числа. На вход подается только строка, которую нужно обработать.\n",
    "def extract_num(stroka):\n",
    "\n",
    "    len_s=len(str(stroka))-1\n",
    " \n",
    "    return extract_num_recurr(str(stroka),len_s,0)"
   ]
  },
  {
   "cell_type": "markdown",
   "metadata": {},
   "source": [
    "# Вспомогательные функции расчета метрик."
   ]
  },
  {
   "cell_type": "code",
   "execution_count": 8,
   "metadata": {
    "execution": {
     "iopub.execute_input": "2022-09-13T19:10:20.529342Z",
     "iopub.status.busy": "2022-09-13T19:10:20.528461Z",
     "iopub.status.idle": "2022-09-13T19:10:20.545814Z",
     "shell.execute_reply": "2022-09-13T19:10:20.544394Z",
     "shell.execute_reply.started": "2022-09-13T19:10:20.529299Z"
    }
   },
   "outputs": [],
   "source": [
    "# Функция расчета ошибки\n",
    "def mape(y_true, y_pred):\n",
    "    return np.mean(np.abs((y_pred-y_true)/y_true))"
   ]
  },
  {
   "cell_type": "code",
   "execution_count": 9,
   "metadata": {
    "execution": {
     "iopub.execute_input": "2022-09-13T19:10:20.548440Z",
     "iopub.status.busy": "2022-09-13T19:10:20.548030Z",
     "iopub.status.idle": "2022-09-13T19:10:20.558603Z",
     "shell.execute_reply": "2022-09-13T19:10:20.557737Z",
     "shell.execute_reply.started": "2022-09-13T19:10:20.548405Z"
    }
   },
   "outputs": [],
   "source": [
    "# Функция расчета ошибки для логарифмированной целевой переменнной\n",
    "def mape_log(y_true, y_pred):\n",
    "    return np.mean(np.abs((np.exp(y_pred)-np.exp(y_true))/np.exp(y_true)))"
   ]
  },
  {
   "cell_type": "code",
   "execution_count": 10,
   "metadata": {
    "execution": {
     "iopub.execute_input": "2022-09-13T19:10:20.559937Z",
     "iopub.status.busy": "2022-09-13T19:10:20.559630Z",
     "iopub.status.idle": "2022-09-13T19:10:20.572385Z",
     "shell.execute_reply": "2022-09-13T19:10:20.571217Z",
     "shell.execute_reply.started": "2022-09-13T19:10:20.559908Z"
    }
   },
   "outputs": [],
   "source": [
    "def print_regression_metrics(y_true, y_pred):\n",
    "    mse = mean_squared_error(y_true, y_pred)\n",
    "    rmse = np.sqrt(mse)\n",
    "    print(f'MSE = {mse:.2f}, RMSE = {rmse:.2f}')"
   ]
  },
  {
   "cell_type": "markdown",
   "metadata": {},
   "source": [
    "# Общие сведения, задачи, примерный план работы."
   ]
  },
  {
   "cell_type": "code",
   "execution_count": 11,
   "metadata": {
    "execution": {
     "iopub.execute_input": "2022-09-13T19:10:20.578163Z",
     "iopub.status.busy": "2022-09-13T19:10:20.577780Z",
     "iopub.status.idle": "2022-09-13T19:10:20.960919Z",
     "shell.execute_reply": "2022-09-13T19:10:20.959707Z",
     "shell.execute_reply.started": "2022-09-13T19:10:20.578128Z"
    }
   },
   "outputs": [
    {
     "name": "stdout",
     "output_type": "stream",
     "text": [
      "<class 'pandas.core.frame.DataFrame'>\n",
      "RangeIndex: 377185 entries, 0 to 377184\n",
      "Data columns (total 18 columns):\n",
      " #   Column        Non-Null Count   Dtype \n",
      "---  ------        --------------   ----- \n",
      " 0   status        337267 non-null  object\n",
      " 1   private pool  4181 non-null    object\n",
      " 2   propertyType  342452 non-null  object\n",
      " 3   street        377183 non-null  object\n",
      " 4   baths         270847 non-null  object\n",
      " 5   homeFacts     377185 non-null  object\n",
      " 6   fireplace     103115 non-null  object\n",
      " 7   city          377151 non-null  object\n",
      " 8   schools       377185 non-null  object\n",
      " 9   sqft          336608 non-null  object\n",
      " 10  zipcode       377185 non-null  object\n",
      " 11  beds          285903 non-null  object\n",
      " 12  state         377185 non-null  object\n",
      " 13  stories       226470 non-null  object\n",
      " 14  mls-id        24942 non-null   object\n",
      " 15  PrivatePool   40311 non-null   object\n",
      " 16  MlsId         310305 non-null  object\n",
      " 17  target        374704 non-null  object\n",
      "dtypes: object(18)\n",
      "memory usage: 51.8+ MB\n"
     ]
    }
   ],
   "source": [
    "data_d.info()"
   ]
  },
  {
   "cell_type": "markdown",
   "metadata": {},
   "source": [
    "# Задачи на текущем этапе\n",
    "\n",
    "1. С точки зрения здравого смысле должна быть корреляция между улицей и городом. Возможны проблемы с сочетанием популярности улицы - непопулярности города и наоборот. Что с этим делать пока непонятно.\n",
    "\n",
    "2. Признак школы объединяет три фрагмента информации: рейтинг школы, удаленность от школы, название школы. С точки зрения здравого смысла, рейтинг и удаленность должны заметно влиять на цену. Проблема с признаком: неряшливая запись, практически невозможно выделить какой-то формат. Пока работаю над ним.\n",
    "\n",
    "3.  mls_id и MLSID: похоже, одно и то же. Посмотреть распределение значений mls_id, скорее всего, можно будет просто выкинуть. MLSID, наверное, тоже.  # удалено. Скорее всего, на цену не влияет.\n",
    "\n",
    "4. Признак факты содержит дополнительную информацию. В признаке хорошо выделяется структура: список словарей. Написана функция, выделяющая собственно этот список, в которой проявляется ошибка. Работаю над исправлением.\n",
    "\n",
    "\n",
    "# Текущая модель\n",
    "\n",
    "Из предварительной выборки удалены признаки:\n",
    "\n",
    "private pool\n",
    "\n",
    "улица\n",
    "\n",
    "mls_id и MLSID\n",
    "\n",
    "общий признак школы\n",
    "\n",
    "общий признак факты\n",
    "\n",
    "    \n",
    "# Дальнейшие задачи\n",
    "\n",
    "1. Обработка признаков школы и факты, добавление новых столбцов в датасет, добавление в модель.\n",
    "\n",
    "2. Эксперименты с моделями.\n",
    "\n",
    "3. Провести более точное удаление выбросов целевой переменной, посмотреть результаты."
   ]
  },
  {
   "cell_type": "markdown",
   "metadata": {},
   "source": [
    "Удалено, потому что громоздко."
   ]
  },
  {
   "cell_type": "code",
   "execution_count": 12,
   "metadata": {
    "execution": {
     "iopub.execute_input": "2022-09-13T19:10:20.962863Z",
     "iopub.status.busy": "2022-09-13T19:10:20.962517Z",
     "iopub.status.idle": "2022-09-13T19:10:20.967735Z",
     "shell.execute_reply": "2022-09-13T19:10:20.966495Z",
     "shell.execute_reply.started": "2022-09-13T19:10:20.962830Z"
    }
   },
   "outputs": [],
   "source": [
    "# Быстрый EDA \n",
    "#profile = ProfileReport(data_d, title='Dataset Pandas Profiling Report', explorative = True)"
   ]
  },
  {
   "cell_type": "code",
   "execution_count": 13,
   "metadata": {
    "execution": {
     "iopub.execute_input": "2022-09-13T19:10:20.970089Z",
     "iopub.status.busy": "2022-09-13T19:10:20.969261Z",
     "iopub.status.idle": "2022-09-13T19:10:20.983512Z",
     "shell.execute_reply": "2022-09-13T19:10:20.982297Z",
     "shell.execute_reply.started": "2022-09-13T19:10:20.970054Z"
    }
   },
   "outputs": [],
   "source": [
    "#profile"
   ]
  },
  {
   "cell_type": "markdown",
   "metadata": {},
   "source": [
    "# Анализ целевой переменной."
   ]
  },
  {
   "cell_type": "markdown",
   "metadata": {},
   "source": [
    "# Вспомогательная функция извлечения числа из записи доллара."
   ]
  },
  {
   "cell_type": "code",
   "execution_count": 14,
   "metadata": {
    "execution": {
     "iopub.execute_input": "2022-09-13T19:10:20.986318Z",
     "iopub.status.busy": "2022-09-13T19:10:20.985194Z",
     "iopub.status.idle": "2022-09-13T19:10:20.996446Z",
     "shell.execute_reply": "2022-09-13T19:10:20.995201Z",
     "shell.execute_reply.started": "2022-09-13T19:10:20.986259Z"
    }
   },
   "outputs": [],
   "source": [
    "def dollar_clean(string):\n",
    "    i=0\n",
    "    string_interm=re.findall('[0-9]+', string)\n",
    "    \n",
    "    if string_interm==[]:\n",
    "\n",
    "        return 0\n",
    "    else:\n",
    "        dollar_res=''\n",
    "        while i<=(len(string_interm)-1):\n",
    "            dollar_res=dollar_res + string_interm[i]\n",
    "            i=i+1\n",
    "        return (float(dollar_res))\n"
   ]
  },
  {
   "cell_type": "code",
   "execution_count": 15,
   "metadata": {
    "execution": {
     "iopub.execute_input": "2022-09-13T19:10:20.998890Z",
     "iopub.status.busy": "2022-09-13T19:10:20.998413Z",
     "iopub.status.idle": "2022-09-13T19:10:22.245812Z",
     "shell.execute_reply": "2022-09-13T19:10:22.244583Z",
     "shell.execute_reply.started": "2022-09-13T19:10:20.998846Z"
    }
   },
   "outputs": [],
   "source": [
    "data_d.target = data_d.target.apply(lambda x: dollar_clean(str(x)))"
   ]
  },
  {
   "cell_type": "code",
   "execution_count": 16,
   "metadata": {
    "execution": {
     "iopub.execute_input": "2022-09-13T19:10:22.247832Z",
     "iopub.status.busy": "2022-09-13T19:10:22.247379Z",
     "iopub.status.idle": "2022-09-13T19:10:22.280337Z",
     "shell.execute_reply": "2022-09-13T19:10:22.279401Z",
     "shell.execute_reply.started": "2022-09-13T19:10:22.247785Z"
    }
   },
   "outputs": [
    {
     "data": {
      "text/plain": [
       "0.0         2481\n",
       "225000.0    1806\n",
       "275000.0    1650\n",
       "250000.0    1644\n",
       "350000.0    1641\n",
       "            ... \n",
       "236070.0       1\n",
       "752911.0       1\n",
       "73360.0        1\n",
       "455740.0       1\n",
       "171306.0       1\n",
       "Name: target, Length: 34233, dtype: int64"
      ]
     },
     "execution_count": 16,
     "metadata": {},
     "output_type": "execute_result"
    }
   ],
   "source": [
    "data_d['target'].value_counts()"
   ]
  },
  {
   "cell_type": "code",
   "execution_count": 17,
   "metadata": {
    "execution": {
     "iopub.execute_input": "2022-09-13T19:10:22.282945Z",
     "iopub.status.busy": "2022-09-13T19:10:22.282125Z",
     "iopub.status.idle": "2022-09-13T19:10:24.075865Z",
     "shell.execute_reply": "2022-09-13T19:10:24.074529Z",
     "shell.execute_reply.started": "2022-09-13T19:10:22.282899Z"
    }
   },
   "outputs": [
    {
     "data": {
      "text/plain": [
       "<AxesSubplot:xlabel='target', ylabel='Density'>"
      ]
     },
     "execution_count": 17,
     "metadata": {},
     "output_type": "execute_result"
    },
    {
     "data": {
      "image/png": "[encoded data removed]",
      "text/plain": [
       "<Figure size 460.8x316.8 with 1 Axes>"
      ]
     },
     "metadata": {
      "needs_background": "light"
     },
     "output_type": "display_data"
    }
   ],
   "source": [
    "sns.distplot(data_d['target'])"
   ]
  },
  {
   "cell_type": "code",
   "execution_count": 18,
   "metadata": {
    "execution": {
     "iopub.execute_input": "2022-09-13T19:10:24.077375Z",
     "iopub.status.busy": "2022-09-13T19:10:24.077053Z",
     "iopub.status.idle": "2022-09-13T19:10:24.110753Z",
     "shell.execute_reply": "2022-09-13T19:10:24.109792Z",
     "shell.execute_reply.started": "2022-09-13T19:10:24.077345Z"
    }
   },
   "outputs": [],
   "source": [
    "data_d.target = np.log(data_d.target[data_d.target > 0])"
   ]
  },
  {
   "cell_type": "code",
   "execution_count": 19,
   "metadata": {
    "execution": {
     "iopub.execute_input": "2022-09-13T19:10:24.112288Z",
     "iopub.status.busy": "2022-09-13T19:10:24.111941Z",
     "iopub.status.idle": "2022-09-13T19:10:25.956722Z",
     "shell.execute_reply": "2022-09-13T19:10:25.955406Z",
     "shell.execute_reply.started": "2022-09-13T19:10:24.112256Z"
    }
   },
   "outputs": [
    {
     "data": {
      "text/plain": [
       "<AxesSubplot:xlabel='target', ylabel='Density'>"
      ]
     },
     "execution_count": 19,
     "metadata": {},
     "output_type": "execute_result"
    },
    {
     "data": {
      "image/png": "[encoded data removed]",
      "text/plain": [
       "<Figure size 460.8x316.8 with 1 Axes>"
      ]
     },
     "metadata": {
      "needs_background": "light"
     },
     "output_type": "display_data"
    }
   ],
   "source": [
    "sns.distplot(data_d['target'])"
   ]
  },
  {
   "cell_type": "markdown",
   "metadata": {},
   "source": []
  },
  {
   "cell_type": "markdown",
   "metadata": {},
   "source": [
    "Предварительное грубое удаление выбросов."
   ]
  },
  {
   "cell_type": "code",
   "execution_count": 20,
   "metadata": {
    "execution": {
     "iopub.execute_input": "2022-09-13T19:10:25.958711Z",
     "iopub.status.busy": "2022-09-13T19:10:25.958368Z",
     "iopub.status.idle": "2022-09-13T19:10:26.133231Z",
     "shell.execute_reply": "2022-09-13T19:10:26.132129Z",
     "shell.execute_reply.started": "2022-09-13T19:10:25.958680Z"
    }
   },
   "outputs": [],
   "source": [
    "data_d['target'] = data_d[(data_d['target'] > 7.5)]['target']"
   ]
  },
  {
   "cell_type": "markdown",
   "metadata": {},
   "source": [
    "# Спальни - приведение к численному виду."
   ]
  },
  {
   "cell_type": "code",
   "execution_count": 21,
   "metadata": {
    "execution": {
     "iopub.execute_input": "2022-09-13T19:10:26.135286Z",
     "iopub.status.busy": "2022-09-13T19:10:26.134906Z",
     "iopub.status.idle": "2022-09-13T19:10:26.164229Z",
     "shell.execute_reply": "2022-09-13T19:10:26.163032Z",
     "shell.execute_reply.started": "2022-09-13T19:10:26.135253Z"
    }
   },
   "outputs": [
    {
     "data": {
      "text/plain": [
       "array(['4', '3 Beds', '5 Beds', ..., '9,565 sqft', '1.74 acres',\n",
       "       '8,479 sqft'], dtype=object)"
      ]
     },
     "execution_count": 21,
     "metadata": {},
     "output_type": "execute_result"
    }
   ],
   "source": [
    "data_d['beds'].unique()"
   ]
  },
  {
   "cell_type": "code",
   "execution_count": 22,
   "metadata": {
    "execution": {
     "iopub.execute_input": "2022-09-13T19:10:26.166641Z",
     "iopub.status.busy": "2022-09-13T19:10:26.166210Z",
     "iopub.status.idle": "2022-09-13T19:10:26.354094Z",
     "shell.execute_reply": "2022-09-13T19:10:26.353109Z",
     "shell.execute_reply.started": "2022-09-13T19:10:26.166543Z"
    }
   },
   "outputs": [],
   "source": [
    "data_d = data_d.drop(np.where(data_d['beds'] == '# Bedrooms 1st Floor')[0])"
   ]
  },
  {
   "cell_type": "markdown",
   "metadata": {},
   "source": [
    "Вспомогательная функция stirng_part со вложенной string_part_extract для выделения символьной части."
   ]
  },
  {
   "cell_type": "code",
   "execution_count": 23,
   "metadata": {
    "execution": {
     "iopub.execute_input": "2022-09-13T19:10:26.355805Z",
     "iopub.status.busy": "2022-09-13T19:10:26.355489Z",
     "iopub.status.idle": "2022-09-13T19:10:26.363357Z",
     "shell.execute_reply": "2022-09-13T19:10:26.362346Z",
     "shell.execute_reply.started": "2022-09-13T19:10:26.355776Z"
    }
   },
   "outputs": [],
   "source": [
    "def string_part_extract(string, len_s, i, res_str):\n",
    "    if i<len_s:\n",
    "      \n",
    "        if string[i].isdigit(): return string_part_extract(string, len_s, i+1, res_str)\n",
    "        else:\n",
    "    \n",
    "            return string_part_extract(string, len_s, i+1, res_str+string[i])\n",
    "    elif i==len_s:\n",
    "    \n",
    "        if string[i].isdigit(): \n",
    "           \n",
    "            return res_str\n",
    "        \n",
    "        else:\n",
    "       \n",
    "            return (res_str+string[i])\n",
    "    \n",
    "    \n",
    "    \n",
    "    \n",
    "def stirng_part(string):\n",
    "    len_s = len(str(string))-1\n",
    "    pus = \"\"\n",
    "    return string_part_extract(str(string), len_s, 0, pus)"
   ]
  },
  {
   "cell_type": "markdown",
   "metadata": {},
   "source": [
    "Вспомогательная функция, проверяет определенные слова в описании признака."
   ]
  },
  {
   "cell_type": "code",
   "execution_count": 24,
   "metadata": {
    "execution": {
     "iopub.execute_input": "2022-09-13T19:10:26.365592Z",
     "iopub.status.busy": "2022-09-13T19:10:26.365057Z",
     "iopub.status.idle": "2022-09-13T19:10:26.374769Z",
     "shell.execute_reply": "2022-09-13T19:10:26.374008Z",
     "shell.execute_reply.started": "2022-09-13T19:10:26.365561Z"
    }
   },
   "outputs": [],
   "source": [
    "def subsrting_beds(source_string):\n",
    "    list_of_strings = ['Bd','Bedrooms','Beds','Bed','bd','beds','bed','bedrooms']\n",
    "    for substring in list_of_strings:\n",
    "        if substring in source_string:\n",
    "            return False\n",
    "    return True"
   ]
  },
  {
   "cell_type": "markdown",
   "metadata": {},
   "source": [
    "Предварительная обработка признака для систематизации словесных комментариев. (Для того, чтобы значимые величины не попали в выбросы.)"
   ]
  },
  {
   "cell_type": "code",
   "execution_count": 25,
   "metadata": {
    "execution": {
     "iopub.execute_input": "2022-09-13T19:10:26.376289Z",
     "iopub.status.busy": "2022-09-13T19:10:26.375976Z",
     "iopub.status.idle": "2022-09-13T19:10:27.829251Z",
     "shell.execute_reply": "2022-09-13T19:10:27.828043Z",
     "shell.execute_reply.started": "2022-09-13T19:10:26.376259Z"
    }
   },
   "outputs": [
    {
     "data": {
      "text/plain": [
       "0          212870\n",
       "3 Beds      53459\n",
       "4 Beds      35418\n",
       "2 Beds      26362\n",
       "3 bd        12877\n",
       "            ...  \n",
       "23 bd           1\n",
       "31 Beds         1\n",
       "27 bd           1\n",
       "26 bd           1\n",
       "88 Beds         1\n",
       "Name: beds, Length: 74, dtype: int64"
      ]
     },
     "execution_count": 25,
     "metadata": {},
     "output_type": "execute_result"
    }
   ],
   "source": [
    "data_d = data_d.drop(np.where(data_d['beds'] == '# Bedrooms 1st Floor')[0])\n",
    "data_d.beds = data_d.beds.apply(lambda x: 0 if subsrting_beds(stirng_part(x)) else x)\n",
    "data_d.beds = data_d.beds.apply(lambda x: 0 if 'Bath' in str(x) else x)\n",
    "data_d.beds = data_d.beds.apply(lambda x: 0 if x == '1-2 Beds' or x == '-- bd' else x)\n",
    "data_d['beds'].unique()                        \n",
    "data_d['beds'].value_counts() "
   ]
  },
  {
   "cell_type": "markdown",
   "metadata": {},
   "source": [
    "Вспомогательная функция для выбора числового значения признака спальни."
   ]
  },
  {
   "cell_type": "code",
   "execution_count": 26,
   "metadata": {
    "execution": {
     "iopub.execute_input": "2022-09-13T19:10:27.831922Z",
     "iopub.status.busy": "2022-09-13T19:10:27.830785Z",
     "iopub.status.idle": "2022-09-13T19:10:27.838865Z",
     "shell.execute_reply": "2022-09-13T19:10:27.837764Z",
     "shell.execute_reply.started": "2022-09-13T19:10:27.831877Z"
    }
   },
   "outputs": [],
   "source": [
    "def otbor(stroka,i):\n",
    "    if i == len(stroka): return(int(stroka))\n",
    "    elif stroka[i] == ' ':\n",
    "            return (int(stroka[:i]))\n",
    "    else: return otbor(stroka,i+1)\n",
    "    "
   ]
  },
  {
   "cell_type": "code",
   "execution_count": 27,
   "metadata": {
    "execution": {
     "iopub.execute_input": "2022-09-13T19:10:27.840547Z",
     "iopub.status.busy": "2022-09-13T19:10:27.840191Z",
     "iopub.status.idle": "2022-09-13T19:10:28.452543Z",
     "shell.execute_reply": "2022-09-13T19:10:28.451672Z",
     "shell.execute_reply.started": "2022-09-13T19:10:27.840517Z"
    }
   },
   "outputs": [],
   "source": [
    "data_d.beds = data_d.beds.apply(lambda x: otbor(str(x),0))"
   ]
  },
  {
   "cell_type": "code",
   "execution_count": 28,
   "metadata": {
    "execution": {
     "iopub.execute_input": "2022-09-13T19:10:28.454218Z",
     "iopub.status.busy": "2022-09-13T19:10:28.453770Z",
     "iopub.status.idle": "2022-09-13T19:10:28.465529Z",
     "shell.execute_reply": "2022-09-13T19:10:28.464766Z",
     "shell.execute_reply.started": "2022-09-13T19:10:28.454175Z"
    }
   },
   "outputs": [
    {
     "data": {
      "text/plain": [
       "array([ 0,  3,  5,  2,  4,  8,  6, 12,  7,  1,  9, 16, 13, 18, 10, 20, 26,\n",
       "       64, 22, 11, 24, 14, 28, 32, 15, 36, 19, 25, 17, 27, 47, 23, 44, 31,\n",
       "       34, 78, 48, 40, 33, 53, 51, 30, 39, 42, 21, 52, 46, 76, 88])"
      ]
     },
     "execution_count": 28,
     "metadata": {},
     "output_type": "execute_result"
    }
   ],
   "source": [
    "data_d['beds'].unique()                        \n"
   ]
  },
  {
   "cell_type": "markdown",
   "metadata": {},
   "source": [
    "# Ванны - приведение к численному виду."
   ]
  },
  {
   "cell_type": "code",
   "execution_count": 29,
   "metadata": {
    "execution": {
     "iopub.execute_input": "2022-09-13T19:10:28.474105Z",
     "iopub.status.busy": "2022-09-13T19:10:28.473337Z",
     "iopub.status.idle": "2022-09-13T19:10:28.505550Z",
     "shell.execute_reply": "2022-09-13T19:10:28.504390Z",
     "shell.execute_reply.started": "2022-09-13T19:10:28.474055Z"
    }
   },
   "outputs": [
    {
     "data": {
      "text/plain": [
       "array(['3.5', '3 Baths', '2 Baths', '8 Baths', nan, '2', '3',\n",
       "       'Bathrooms: 2', '1,750', '4 Baths', '2 ba', 'Bathrooms: 5',\n",
       "       '1,000', '7 Baths', '2.0', '3.0', 'Bathrooms: 1', '4.0',\n",
       "       '2.1 Baths', '2.5 Baths', '1', 'Bathrooms: 3', '4.5', '6 Baths',\n",
       "       'Bathrooms: 4', '3 ba', '5', '2,500', '5.5 Baths', '1.0',\n",
       "       '5 Baths', '1.5', '4', '~', '2.5', '4,000', '3.5 Baths', '2,000',\n",
       "       '3,000', '8.0', '1 ba', '3.5 ba', '0', '5.0', '1,500', '7.0',\n",
       "       '1,250', '9 Baths', '2,250', '6.0', '12 Baths', '5.5', '3,500',\n",
       "       '1.5 Baths', '2,750', 'Bathrooms: 6', '4.5 Baths', '750', '5.5+',\n",
       "       '6', '10 Baths', '6 ba', 'Bathrooms: 19', '10.0', '1.5 ba', '4 ba',\n",
       "       '12 ba', '2.5+', '8', '7.5+', 'Bathrooms: 10', '0 / 0', 'Sq. Ft. ',\n",
       "       '5 ba', '4.5+', '18 Baths', '-- baths', 'Bathrooms: 7', '7', '18',\n",
       "       '3.5+', '1.5+', '11 Baths', '5,000', '1.75 Baths', '9', '12.0',\n",
       "       '1.1 Baths', '6.5', 'Bathrooms: 8', '10', '19 Baths',\n",
       "       'Bathrooms: 9', '16 Baths', '13 Baths', 'Bathrooms: 13', '14',\n",
       "       '9.0', '8.5+', '7 ba', '12', '2.5 ba', 'Bathrooms: 12', '17',\n",
       "       'Bathrooms: 241', '16.0', '10.5+', '8 ba', '6.5+', '6.5 Baths',\n",
       "       '14 Baths', '7,500+', '7.5', '11.0', '20 Baths', '11', '40 Baths',\n",
       "       '1-0 / 1-0 / 1', '14.0', '1.75 ba', '2.75 Baths', '24 Baths',\n",
       "       '22.0', '0.00', '2.25 Baths', '3.1 Baths', '3.25 Baths', '—', '13',\n",
       "       '4.5 ba', '22', '9 ba', '32', '7.5 Baths', '18.0', 'Bathrooms: 11',\n",
       "       '17 Baths', '0.0', 'Bathrooms: 27', '26', '20.0', '9.5', '8.5',\n",
       "       '26 Baths', '2 baths', '15 Baths', '16', '35', '3.75 Baths',\n",
       "       '29 Baths', '22 Baths', 'Bathrooms: 18', '116 / 116 / 116', '40',\n",
       "       '21 Baths', '5.2 Baths', '29', '8.5 Baths', '14.5+', '76 Baths',\n",
       "       '13.0', 'Bathrooms: SemiMod', '3-1 / 2-2', '32 Baths', '2.25 ba',\n",
       "       '15.0', '23 Baths', '3.3 Baths', '43 Baths', '21', '1.25 Baths',\n",
       "       '34 Baths', '20', '2.2 Baths', '1 / 1 / 1 / 1', '55.0', '3 baths',\n",
       "       '25 Baths', '12.5+', 'Bathrooms: 24', '44 Baths', '0.5 Baths',\n",
       "       '4.25 Baths', '4.75 Baths', '0.75 Baths', '4.1 Baths', '15',\n",
       "       'Bathrooms: 14', '5.25 Baths', '10 ba', '41.0', '1.8 Baths',\n",
       "       'Bathrooms: 16', '10.5', 'Bathrooms: 21', '9.5+', '36 Baths',\n",
       "       '30 Baths', '27', '10.5 Baths', '12.5', '24.0', '23.0', '24',\n",
       "       '28 Baths', '2.8 Baths', '34.0', '64.0', '11.5+', '13 ba',\n",
       "       '39 Baths', '30', '30.0', '17.0', '42 Baths', '5.5 ba', '16 ba',\n",
       "       '11.5 Baths', '27 Baths', '11 ba', '3.2 Baths',\n",
       "       '2-1 / 2-1 / 1-1 / 1-1', '23', '60 Baths', '1 / 1-0 / 1-0 / 1-0',\n",
       "       '6.75 Baths', '1-2 Baths', 'Bathrooms: 15', '68 Baths', '44.0'],\n",
       "      dtype=object)"
      ]
     },
     "execution_count": 29,
     "metadata": {},
     "output_type": "execute_result"
    }
   ],
   "source": [
    "data_d['baths'].unique()   "
   ]
  },
  {
   "cell_type": "markdown",
   "metadata": {},
   "source": [
    "Вспомогательная функция для получения численного значения оборудования в ванной. Если значение некорректно, выдает ноль. (Также использовалась для этажей.)"
   ]
  },
  {
   "cell_type": "code",
   "execution_count": 30,
   "metadata": {
    "execution": {
     "iopub.execute_input": "2022-09-13T19:10:28.507386Z",
     "iopub.status.busy": "2022-09-13T19:10:28.507014Z",
     "iopub.status.idle": "2022-09-13T19:10:28.518321Z",
     "shell.execute_reply": "2022-09-13T19:10:28.517341Z",
     "shell.execute_reply.started": "2022-09-13T19:10:28.507352Z"
    }
   },
   "outputs": [],
   "source": [
    "def extract_num_recurr_bath(stroka,first_digit,len_s,i):\n",
    "    if i == len_s and stroka[i].isdigit():\n",
    "        return (float(first_digit + str(stroka[i])))\n",
    "    elif i < len_s and (stroka[i].isdigit() or stroka[i] == '.'):\n",
    "        return extract_num_recurr_bath(stroka, (first_digit + str(stroka[i])), len_s, i+1)\n",
    "    \n",
    "    else: return(float(first_digit))\n",
    "                        \n",
    "def extract_num_bath(stroka,len_s,i):\n",
    "  \n",
    "    if i == len_s and not stroka[i].isdigit():\n",
    "        return 0\n",
    "    elif i == len_s and stroka[i].isdigit():\n",
    "        return float(stroka[i])\n",
    "    elif i < len_s and stroka[i].isdigit():\n",
    "        return extract_num_recurr_bath(stroka,str(stroka[i]),len_s,i+1)\n",
    "    else: return extract_num_bath(stroka,len_s,i+1)\n",
    "\n",
    "def main_extract_num_bath(stroka):   \n",
    "    len_s=len(stroka)-1\n",
    "    \n",
    "    return extract_num_bath(stroka,len_s,0)"
   ]
  },
  {
   "cell_type": "code",
   "execution_count": 31,
   "metadata": {
    "execution": {
     "iopub.execute_input": "2022-09-13T19:10:28.520106Z",
     "iopub.status.busy": "2022-09-13T19:10:28.519740Z",
     "iopub.status.idle": "2022-09-13T19:10:29.417096Z",
     "shell.execute_reply": "2022-09-13T19:10:29.415554Z",
     "shell.execute_reply.started": "2022-09-13T19:10:28.520073Z"
    }
   },
   "outputs": [],
   "source": [
    "data_d.baths = data_d.baths.apply(lambda x: main_extract_num_bath(str(x)))"
   ]
  },
  {
   "cell_type": "code",
   "execution_count": 32,
   "metadata": {
    "execution": {
     "iopub.execute_input": "2022-09-13T19:10:29.420077Z",
     "iopub.status.busy": "2022-09-13T19:10:29.419693Z",
     "iopub.status.idle": "2022-09-13T19:10:29.435280Z",
     "shell.execute_reply": "2022-09-13T19:10:29.434120Z",
     "shell.execute_reply.started": "2022-09-13T19:10:29.420042Z"
    }
   },
   "outputs": [
    {
     "data": {
      "text/plain": [
       "array([3.50e+00, 3.00e+00, 2.00e+00, 8.00e+00, 0.00e+00, 1.00e+00,\n",
       "       4.00e+00, 5.00e+00, 7.00e+00, 2.10e+00, 2.50e+00, 4.50e+00,\n",
       "       6.00e+00, 5.50e+00, 1.50e+00, 9.00e+00, 1.20e+01, 7.50e+02,\n",
       "       1.00e+01, 1.90e+01, 7.50e+00, 1.80e+01, 1.10e+01, 1.75e+00,\n",
       "       1.10e+00, 6.50e+00, 1.60e+01, 1.30e+01, 1.40e+01, 8.50e+00,\n",
       "       1.70e+01, 2.41e+02, 1.05e+01, 2.00e+01, 4.00e+01, 2.75e+00,\n",
       "       2.40e+01, 2.20e+01, 2.25e+00, 3.10e+00, 3.25e+00, 3.20e+01,\n",
       "       2.70e+01, 2.60e+01, 9.50e+00, 1.50e+01, 3.50e+01, 3.75e+00,\n",
       "       2.90e+01, 1.16e+02, 2.10e+01, 5.20e+00, 1.45e+01, 7.60e+01,\n",
       "       2.30e+01, 3.30e+00, 4.30e+01, 1.25e+00, 3.40e+01, 2.20e+00,\n",
       "       5.50e+01, 2.50e+01, 1.25e+01, 4.40e+01, 5.00e-01, 4.25e+00,\n",
       "       4.75e+00, 7.50e-01, 4.10e+00, 5.25e+00, 4.10e+01, 1.80e+00,\n",
       "       3.60e+01, 3.00e+01, 2.80e+01, 2.80e+00, 6.40e+01, 1.15e+01,\n",
       "       3.90e+01, 4.20e+01, 3.20e+00, 6.00e+01, 6.75e+00, 6.80e+01])"
      ]
     },
     "execution_count": 32,
     "metadata": {},
     "output_type": "execute_result"
    }
   ],
   "source": [
    "data_d['baths'].unique()   "
   ]
  },
  {
   "cell_type": "markdown",
   "metadata": {},
   "source": [
    " # Камин"
   ]
  },
  {
   "cell_type": "markdown",
   "metadata": {},
   "source": [
    "Вспомогательная функция для приведения признака числа каминов к численному виду."
   ]
  },
  {
   "cell_type": "code",
   "execution_count": 33,
   "metadata": {
    "execution": {
     "iopub.execute_input": "2022-09-13T19:10:29.437356Z",
     "iopub.status.busy": "2022-09-13T19:10:29.436833Z",
     "iopub.status.idle": "2022-09-13T19:10:29.443560Z",
     "shell.execute_reply": "2022-09-13T19:10:29.442455Z",
     "shell.execute_reply.started": "2022-09-13T19:10:29.437312Z"
    }
   },
   "outputs": [],
   "source": [
    "def fireplaces_def(stroka):\n",
    "    if stroka == 'yes': return 1\n",
    "    elif stroka == 'Yes': return 1\n",
    "    elif stroka == '1': return 1\n",
    "    elif stroka == '2': return 2\n",
    "    else: return 0"
   ]
  },
  {
   "cell_type": "code",
   "execution_count": 34,
   "metadata": {
    "execution": {
     "iopub.execute_input": "2022-09-13T19:10:29.445627Z",
     "iopub.status.busy": "2022-09-13T19:10:29.445066Z",
     "iopub.status.idle": "2022-09-13T19:10:29.476530Z",
     "shell.execute_reply": "2022-09-13T19:10:29.475595Z",
     "shell.execute_reply.started": "2022-09-13T19:10:29.445579Z"
    }
   },
   "outputs": [
    {
     "data": {
      "text/plain": [
       "yes                                                                     0.488348\n",
       "Yes                                                                     0.202260\n",
       "1                                                                       0.141046\n",
       "2                                                                       0.023585\n",
       "Not Applicable                                                          0.019328\n",
       "                                                                          ...   \n",
       "Free-standing, Insert, Wood                                             0.000010\n",
       "Wood Burning, Attached Fireplace Doors/Screen, Electric, Gas Starter    0.000010\n",
       "One, Living Room                                                        0.000010\n",
       "FAMILYRM, Great Room, Living Room                                       0.000010\n",
       "Ceiling Fan, SMAPL, Utility Connection, Walk-In Closets                 0.000010\n",
       "Name: fireplace, Length: 1653, dtype: float64"
      ]
     },
     "execution_count": 34,
     "metadata": {},
     "output_type": "execute_result"
    }
   ],
   "source": [
    "data_d['fireplace'].value_counts(3) "
   ]
  },
  {
   "cell_type": "code",
   "execution_count": 35,
   "metadata": {
    "execution": {
     "iopub.execute_input": "2022-09-13T19:10:29.478765Z",
     "iopub.status.busy": "2022-09-13T19:10:29.478312Z",
     "iopub.status.idle": "2022-09-13T19:10:29.903936Z",
     "shell.execute_reply": "2022-09-13T19:10:29.902706Z",
     "shell.execute_reply.started": "2022-09-13T19:10:29.478719Z"
    }
   },
   "outputs": [],
   "source": [
    "data_d.fireplace = data_d.fireplace.apply(lambda x: fireplaces_def(str(x)))\n"
   ]
  },
  {
   "cell_type": "code",
   "execution_count": 36,
   "metadata": {
    "execution": {
     "iopub.execute_input": "2022-09-13T19:10:29.905777Z",
     "iopub.status.busy": "2022-09-13T19:10:29.905333Z",
     "iopub.status.idle": "2022-09-13T19:10:29.917674Z",
     "shell.execute_reply": "2022-09-13T19:10:29.916738Z",
     "shell.execute_reply.started": "2022-09-13T19:10:29.905733Z"
    }
   },
   "outputs": [
    {
     "data": {
      "text/plain": [
       "array([0, 1, 2])"
      ]
     },
     "execution_count": 36,
     "metadata": {},
     "output_type": "execute_result"
    }
   ],
   "source": [
    "data_d['fireplace'].unique()"
   ]
  },
  {
   "cell_type": "markdown",
   "metadata": {},
   "source": [
    "# Бассейн. Анализ."
   ]
  },
  {
   "cell_type": "code",
   "execution_count": 37,
   "metadata": {
    "execution": {
     "iopub.execute_input": "2022-09-13T19:10:29.919120Z",
     "iopub.status.busy": "2022-09-13T19:10:29.918722Z",
     "iopub.status.idle": "2022-09-13T19:10:29.941796Z",
     "shell.execute_reply": "2022-09-13T19:10:29.940366Z",
     "shell.execute_reply.started": "2022-09-13T19:10:29.919079Z"
    }
   },
   "outputs": [
    {
     "data": {
      "text/plain": [
       "Yes    4181\n",
       "Name: private pool, dtype: int64"
      ]
     },
     "execution_count": 37,
     "metadata": {},
     "output_type": "execute_result"
    }
   ],
   "source": [
    "data_d['private pool'].value_counts()"
   ]
  },
  {
   "cell_type": "code",
   "execution_count": 38,
   "metadata": {
    "execution": {
     "iopub.execute_input": "2022-09-13T19:10:29.943783Z",
     "iopub.status.busy": "2022-09-13T19:10:29.943361Z",
     "iopub.status.idle": "2022-09-13T19:10:30.011323Z",
     "shell.execute_reply": "2022-09-13T19:10:30.010456Z",
     "shell.execute_reply.started": "2022-09-13T19:10:29.943747Z"
    }
   },
   "outputs": [
    {
     "data": {
      "text/html": [
       "<div>\n",
       "<style scoped>\n",
       "    .dataframe tbody tr th:only-of-type {\n",
       "        vertical-align: middle;\n",
       "    }\n",
       "\n",
       "    .dataframe tbody tr th {\n",
       "        vertical-align: top;\n",
       "    }\n",
       "\n",
       "    .dataframe thead th {\n",
       "        text-align: right;\n",
       "    }\n",
       "</style>\n",
       "<table border=\"1\" class=\"dataframe\">\n",
       "  <thead>\n",
       "    <tr style=\"text-align: right;\">\n",
       "      <th></th>\n",
       "      <th>status</th>\n",
       "      <th>private pool</th>\n",
       "      <th>propertyType</th>\n",
       "      <th>street</th>\n",
       "      <th>baths</th>\n",
       "      <th>homeFacts</th>\n",
       "      <th>fireplace</th>\n",
       "      <th>city</th>\n",
       "      <th>schools</th>\n",
       "      <th>sqft</th>\n",
       "      <th>zipcode</th>\n",
       "      <th>beds</th>\n",
       "      <th>state</th>\n",
       "      <th>stories</th>\n",
       "      <th>mls-id</th>\n",
       "      <th>PrivatePool</th>\n",
       "      <th>MlsId</th>\n",
       "      <th>target</th>\n",
       "    </tr>\n",
       "  </thead>\n",
       "  <tbody>\n",
       "    <tr>\n",
       "      <th>205</th>\n",
       "      <td>For sale</td>\n",
       "      <td>Yes</td>\n",
       "      <td>Single Family</td>\n",
       "      <td>1403 Betton Rd</td>\n",
       "      <td>2.0</td>\n",
       "      <td>{'atAGlanceFacts': [{'factValue': '1958', 'fac...</td>\n",
       "      <td>1</td>\n",
       "      <td>Tallahassee</td>\n",
       "      <td>[{'rating': ['4/10', '5/10', '7/10'], 'data': ...</td>\n",
       "      <td>Total interior livable area: 2,361 sqft</td>\n",
       "      <td>32308</td>\n",
       "      <td>3</td>\n",
       "      <td>FL</td>\n",
       "      <td>NaN</td>\n",
       "      <td>302221</td>\n",
       "      <td>NaN</td>\n",
       "      <td>NaN</td>\n",
       "      <td>12.860999</td>\n",
       "    </tr>\n",
       "    <tr>\n",
       "      <th>321</th>\n",
       "      <td>For sale</td>\n",
       "      <td>Yes</td>\n",
       "      <td>Single Family</td>\n",
       "      <td>3296 Ledgewood Cir</td>\n",
       "      <td>3.0</td>\n",
       "      <td>{'atAGlanceFacts': [{'factValue': '2017', 'fac...</td>\n",
       "      <td>0</td>\n",
       "      <td>Riverside</td>\n",
       "      <td>[{'rating': ['4/10', '4/10', '6/10'], 'data': ...</td>\n",
       "      <td>Total interior livable area: 2,135 sqft</td>\n",
       "      <td>92503</td>\n",
       "      <td>3</td>\n",
       "      <td>CA</td>\n",
       "      <td>2.0</td>\n",
       "      <td>IV19242188</td>\n",
       "      <td>NaN</td>\n",
       "      <td>NaN</td>\n",
       "      <td>13.171154</td>\n",
       "    </tr>\n",
       "    <tr>\n",
       "      <th>355</th>\n",
       "      <td>For sale</td>\n",
       "      <td>Yes</td>\n",
       "      <td>Mobile / Manufactured</td>\n",
       "      <td>2250 N Broadway # 42</td>\n",
       "      <td>2.0</td>\n",
       "      <td>{'atAGlanceFacts': [{'factValue': '1976', 'fac...</td>\n",
       "      <td>0</td>\n",
       "      <td>Escondido</td>\n",
       "      <td>[{'rating': ['4/10', '4/10', '6/10'], 'data': ...</td>\n",
       "      <td>Total interior livable area: 1,536 sqft</td>\n",
       "      <td>92026</td>\n",
       "      <td>2</td>\n",
       "      <td>CA</td>\n",
       "      <td>0.0</td>\n",
       "      <td>190034991</td>\n",
       "      <td>NaN</td>\n",
       "      <td>NaN</td>\n",
       "      <td>11.686879</td>\n",
       "    </tr>\n",
       "    <tr>\n",
       "      <th>404</th>\n",
       "      <td>For sale</td>\n",
       "      <td>Yes</td>\n",
       "      <td>Single Family</td>\n",
       "      <td>24448 Epson Ct</td>\n",
       "      <td>3.0</td>\n",
       "      <td>{'atAGlanceFacts': [{'factValue': '1987', 'fac...</td>\n",
       "      <td>0</td>\n",
       "      <td>Murrieta</td>\n",
       "      <td>[{'rating': ['7/10', '6/10', '8/10'], 'data': ...</td>\n",
       "      <td>Total interior livable area: 1,832 sqft</td>\n",
       "      <td>92562</td>\n",
       "      <td>3</td>\n",
       "      <td>CA</td>\n",
       "      <td>1.0</td>\n",
       "      <td>SW19240910</td>\n",
       "      <td>NaN</td>\n",
       "      <td>NaN</td>\n",
       "      <td>13.709038</td>\n",
       "    </tr>\n",
       "    <tr>\n",
       "      <th>425</th>\n",
       "      <td>Pre-foreclosure / auction</td>\n",
       "      <td>Yes</td>\n",
       "      <td>Single Family</td>\n",
       "      <td>7632 Hillside Dr</td>\n",
       "      <td>2.0</td>\n",
       "      <td>{'atAGlanceFacts': [{'factValue': '1964', 'fac...</td>\n",
       "      <td>1</td>\n",
       "      <td>Jacksonville</td>\n",
       "      <td>[{'rating': ['5/10', '2/10', '4/10'], 'data': ...</td>\n",
       "      <td>Total interior livable area: 1,245 sqft</td>\n",
       "      <td>32221</td>\n",
       "      <td>3</td>\n",
       "      <td>FL</td>\n",
       "      <td>1.0</td>\n",
       "      <td>NaN</td>\n",
       "      <td>NaN</td>\n",
       "      <td>NaN</td>\n",
       "      <td>11.760590</td>\n",
       "    </tr>\n",
       "    <tr>\n",
       "      <th>...</th>\n",
       "      <td>...</td>\n",
       "      <td>...</td>\n",
       "      <td>...</td>\n",
       "      <td>...</td>\n",
       "      <td>...</td>\n",
       "      <td>...</td>\n",
       "      <td>...</td>\n",
       "      <td>...</td>\n",
       "      <td>...</td>\n",
       "      <td>...</td>\n",
       "      <td>...</td>\n",
       "      <td>...</td>\n",
       "      <td>...</td>\n",
       "      <td>...</td>\n",
       "      <td>...</td>\n",
       "      <td>...</td>\n",
       "      <td>...</td>\n",
       "      <td>...</td>\n",
       "    </tr>\n",
       "    <tr>\n",
       "      <th>376627</th>\n",
       "      <td>For sale</td>\n",
       "      <td>Yes</td>\n",
       "      <td>Cooperative</td>\n",
       "      <td>1201 S Riverside Dr Phb # PHB</td>\n",
       "      <td>2.0</td>\n",
       "      <td>{'atAGlanceFacts': [{'factValue': '1963', 'fac...</td>\n",
       "      <td>0</td>\n",
       "      <td>Pompano Beach</td>\n",
       "      <td>[{'rating': ['6/10', '4/10', '3/10'], 'data': ...</td>\n",
       "      <td>Total interior livable area: 2,200 sqft</td>\n",
       "      <td>33062</td>\n",
       "      <td>3</td>\n",
       "      <td>FL</td>\n",
       "      <td>4.0</td>\n",
       "      <td>F10163349</td>\n",
       "      <td>NaN</td>\n",
       "      <td>NaN</td>\n",
       "      <td>13.296317</td>\n",
       "    </tr>\n",
       "    <tr>\n",
       "      <th>376686</th>\n",
       "      <td>For sale</td>\n",
       "      <td>Yes</td>\n",
       "      <td>Single Family</td>\n",
       "      <td>2609 S Marigold Ave</td>\n",
       "      <td>3.0</td>\n",
       "      <td>{'atAGlanceFacts': [{'factValue': '1979', 'fac...</td>\n",
       "      <td>0</td>\n",
       "      <td>Ontario</td>\n",
       "      <td>[{'rating': ['7/10', '6/10', '5/10'], 'data': ...</td>\n",
       "      <td>Total interior livable area: 1,726 sqft</td>\n",
       "      <td>91761</td>\n",
       "      <td>3</td>\n",
       "      <td>CA</td>\n",
       "      <td>2.0</td>\n",
       "      <td>IV19252050</td>\n",
       "      <td>NaN</td>\n",
       "      <td>NaN</td>\n",
       "      <td>13.079456</td>\n",
       "    </tr>\n",
       "    <tr>\n",
       "      <th>376694</th>\n",
       "      <td>For sale</td>\n",
       "      <td>Yes</td>\n",
       "      <td>Condo</td>\n",
       "      <td>5980 Shore Blvd S APT 312</td>\n",
       "      <td>3.0</td>\n",
       "      <td>{'atAGlanceFacts': [{'factValue': '1972', 'fac...</td>\n",
       "      <td>0</td>\n",
       "      <td>Gulfport</td>\n",
       "      <td>[{'rating': ['2/10', '2/10', '4/10'], 'data': ...</td>\n",
       "      <td>Total interior livable area: 2,210 sqft</td>\n",
       "      <td>33707</td>\n",
       "      <td>2</td>\n",
       "      <td>FL</td>\n",
       "      <td>9.0</td>\n",
       "      <td>U8064383</td>\n",
       "      <td>NaN</td>\n",
       "      <td>NaN</td>\n",
       "      <td>12.983101</td>\n",
       "    </tr>\n",
       "    <tr>\n",
       "      <th>376853</th>\n",
       "      <td>For sale</td>\n",
       "      <td>Yes</td>\n",
       "      <td>Townhouse</td>\n",
       "      <td>3188 NE Oregon St</td>\n",
       "      <td>4.0</td>\n",
       "      <td>{'atAGlanceFacts': [{'factValue': '2019', 'fac...</td>\n",
       "      <td>1</td>\n",
       "      <td>Portland</td>\n",
       "      <td>[{'rating': ['9/10', '7/10'], 'data': {'Distan...</td>\n",
       "      <td>Total interior livable area: 2,445 sqft</td>\n",
       "      <td>97232</td>\n",
       "      <td>4</td>\n",
       "      <td>OR</td>\n",
       "      <td>3.0</td>\n",
       "      <td>19591180</td>\n",
       "      <td>NaN</td>\n",
       "      <td>NaN</td>\n",
       "      <td>13.422320</td>\n",
       "    </tr>\n",
       "    <tr>\n",
       "      <th>377112</th>\n",
       "      <td>For sale</td>\n",
       "      <td>Yes</td>\n",
       "      <td>Single Family</td>\n",
       "      <td>1906 W Workman Ave</td>\n",
       "      <td>3.0</td>\n",
       "      <td>{'atAGlanceFacts': [{'factValue': '1950', 'fac...</td>\n",
       "      <td>0</td>\n",
       "      <td>West Covina</td>\n",
       "      <td>[{'rating': ['6/10', '6/10', '7/10'], 'data': ...</td>\n",
       "      <td>Total interior livable area: 1,557 sqft</td>\n",
       "      <td>91790</td>\n",
       "      <td>4</td>\n",
       "      <td>CA</td>\n",
       "      <td>1.0</td>\n",
       "      <td>CV19260192</td>\n",
       "      <td>NaN</td>\n",
       "      <td>NaN</td>\n",
       "      <td>13.367660</td>\n",
       "    </tr>\n",
       "  </tbody>\n",
       "</table>\n",
       "<p>4181 rows × 18 columns</p>\n",
       "</div>"
      ],
      "text/plain": [
       "                           status private pool           propertyType  \\\n",
       "205                      For sale          Yes          Single Family   \n",
       "321                      For sale          Yes          Single Family   \n",
       "355                      For sale          Yes  Mobile / Manufactured   \n",
       "404                      For sale          Yes          Single Family   \n",
       "425     Pre-foreclosure / auction          Yes          Single Family   \n",
       "...                           ...          ...                    ...   \n",
       "376627                   For sale          Yes            Cooperative   \n",
       "376686                   For sale          Yes          Single Family   \n",
       "376694                   For sale          Yes                  Condo   \n",
       "376853                   For sale          Yes              Townhouse   \n",
       "377112                   For sale          Yes          Single Family   \n",
       "\n",
       "                               street  baths  \\\n",
       "205                    1403 Betton Rd    2.0   \n",
       "321                3296 Ledgewood Cir    3.0   \n",
       "355              2250 N Broadway # 42    2.0   \n",
       "404                    24448 Epson Ct    3.0   \n",
       "425                  7632 Hillside Dr    2.0   \n",
       "...                               ...    ...   \n",
       "376627  1201 S Riverside Dr Phb # PHB    2.0   \n",
       "376686            2609 S Marigold Ave    3.0   \n",
       "376694      5980 Shore Blvd S APT 312    3.0   \n",
       "376853              3188 NE Oregon St    4.0   \n",
       "377112             1906 W Workman Ave    3.0   \n",
       "\n",
       "                                                homeFacts  fireplace  \\\n",
       "205     {'atAGlanceFacts': [{'factValue': '1958', 'fac...          1   \n",
       "321     {'atAGlanceFacts': [{'factValue': '2017', 'fac...          0   \n",
       "355     {'atAGlanceFacts': [{'factValue': '1976', 'fac...          0   \n",
       "404     {'atAGlanceFacts': [{'factValue': '1987', 'fac...          0   \n",
       "425     {'atAGlanceFacts': [{'factValue': '1964', 'fac...          1   \n",
       "...                                                   ...        ...   \n",
       "376627  {'atAGlanceFacts': [{'factValue': '1963', 'fac...          0   \n",
       "376686  {'atAGlanceFacts': [{'factValue': '1979', 'fac...          0   \n",
       "376694  {'atAGlanceFacts': [{'factValue': '1972', 'fac...          0   \n",
       "376853  {'atAGlanceFacts': [{'factValue': '2019', 'fac...          1   \n",
       "377112  {'atAGlanceFacts': [{'factValue': '1950', 'fac...          0   \n",
       "\n",
       "                 city                                            schools  \\\n",
       "205       Tallahassee  [{'rating': ['4/10', '5/10', '7/10'], 'data': ...   \n",
       "321         Riverside  [{'rating': ['4/10', '4/10', '6/10'], 'data': ...   \n",
       "355         Escondido  [{'rating': ['4/10', '4/10', '6/10'], 'data': ...   \n",
       "404          Murrieta  [{'rating': ['7/10', '6/10', '8/10'], 'data': ...   \n",
       "425      Jacksonville  [{'rating': ['5/10', '2/10', '4/10'], 'data': ...   \n",
       "...               ...                                                ...   \n",
       "376627  Pompano Beach  [{'rating': ['6/10', '4/10', '3/10'], 'data': ...   \n",
       "376686        Ontario  [{'rating': ['7/10', '6/10', '5/10'], 'data': ...   \n",
       "376694       Gulfport  [{'rating': ['2/10', '2/10', '4/10'], 'data': ...   \n",
       "376853       Portland  [{'rating': ['9/10', '7/10'], 'data': {'Distan...   \n",
       "377112    West Covina  [{'rating': ['6/10', '6/10', '7/10'], 'data': ...   \n",
       "\n",
       "                                           sqft zipcode  beds state stories  \\\n",
       "205     Total interior livable area: 2,361 sqft   32308     3    FL     NaN   \n",
       "321     Total interior livable area: 2,135 sqft   92503     3    CA     2.0   \n",
       "355     Total interior livable area: 1,536 sqft   92026     2    CA     0.0   \n",
       "404     Total interior livable area: 1,832 sqft   92562     3    CA     1.0   \n",
       "425     Total interior livable area: 1,245 sqft   32221     3    FL     1.0   \n",
       "...                                         ...     ...   ...   ...     ...   \n",
       "376627  Total interior livable area: 2,200 sqft   33062     3    FL     4.0   \n",
       "376686  Total interior livable area: 1,726 sqft   91761     3    CA     2.0   \n",
       "376694  Total interior livable area: 2,210 sqft   33707     2    FL     9.0   \n",
       "376853  Total interior livable area: 2,445 sqft   97232     4    OR     3.0   \n",
       "377112  Total interior livable area: 1,557 sqft   91790     4    CA     1.0   \n",
       "\n",
       "            mls-id PrivatePool MlsId     target  \n",
       "205         302221         NaN   NaN  12.860999  \n",
       "321     IV19242188         NaN   NaN  13.171154  \n",
       "355      190034991         NaN   NaN  11.686879  \n",
       "404     SW19240910         NaN   NaN  13.709038  \n",
       "425            NaN         NaN   NaN  11.760590  \n",
       "...            ...         ...   ...        ...  \n",
       "376627   F10163349         NaN   NaN  13.296317  \n",
       "376686  IV19252050         NaN   NaN  13.079456  \n",
       "376694    U8064383         NaN   NaN  12.983101  \n",
       "376853    19591180         NaN   NaN  13.422320  \n",
       "377112  CV19260192         NaN   NaN  13.367660  \n",
       "\n",
       "[4181 rows x 18 columns]"
      ]
     },
     "execution_count": 38,
     "metadata": {},
     "output_type": "execute_result"
    }
   ],
   "source": [
    "data_d.loc[data_d['private pool'] == 'Yes']"
   ]
  },
  {
   "cell_type": "markdown",
   "metadata": {},
   "source": [
    "Вывод: число домов с бассейнами незначительно (4181 из 377185), разброс цен для домов с бассейнами большой, явного влияния на цену нет. Можно не рассматривать."
   ]
  },
  {
   "cell_type": "markdown",
   "metadata": {},
   "source": [
    " # propertyType"
   ]
  },
  {
   "cell_type": "code",
   "execution_count": 39,
   "metadata": {
    "execution": {
     "iopub.execute_input": "2022-09-13T19:10:30.013194Z",
     "iopub.status.busy": "2022-09-13T19:10:30.012583Z",
     "iopub.status.idle": "2022-09-13T19:10:30.046398Z",
     "shell.execute_reply": "2022-09-13T19:10:30.045106Z",
     "shell.execute_reply.started": "2022-09-13T19:10:30.013161Z"
    }
   },
   "outputs": [],
   "source": [
    "dd = data_d['propertyType'].value_counts(normalize=True)"
   ]
  },
  {
   "cell_type": "code",
   "execution_count": 40,
   "metadata": {
    "execution": {
     "iopub.execute_input": "2022-09-13T19:10:30.048358Z",
     "iopub.status.busy": "2022-09-13T19:10:30.048034Z",
     "iopub.status.idle": "2022-09-13T19:10:30.141593Z",
     "shell.execute_reply": "2022-09-13T19:10:30.140605Z",
     "shell.execute_reply.started": "2022-09-13T19:10:30.048329Z"
    }
   },
   "outputs": [],
   "source": [
    "data_d.propertyType = data_d.propertyType.apply(lambda x: 'sfh' if x in ['single-family home','Single Family','Single Family Home'] else x)"
   ]
  },
  {
   "cell_type": "code",
   "execution_count": 41,
   "metadata": {
    "execution": {
     "iopub.execute_input": "2022-09-13T19:10:30.143821Z",
     "iopub.status.busy": "2022-09-13T19:10:30.142762Z",
     "iopub.status.idle": "2022-09-13T19:10:30.177013Z",
     "shell.execute_reply": "2022-09-13T19:10:30.175894Z",
     "shell.execute_reply.started": "2022-09-13T19:10:30.143784Z"
    }
   },
   "outputs": [
    {
     "data": {
      "text/plain": [
       "sfh                                                            0.545488\n",
       "condo                                                          0.075830\n",
       "lot/land                                                       0.060014\n",
       "Condo                                                          0.048360\n",
       "townhouse                                                      0.033476\n",
       "                                                                 ...   \n",
       "Custom, Elevated, Other                                        0.000003\n",
       "Contemporary, Farmhouse                                        0.000003\n",
       "2 Stories, Traditional, Mediterranean, Texas Hill Country      0.000003\n",
       "1 Story, Contemporary, Traditional, Mediterranean              0.000003\n",
       "Bilevel, Converted Dwelling, Loft with Bedrooms, Condo/Unit    0.000003\n",
       "Name: propertyType, Length: 1278, dtype: float64"
      ]
     },
     "execution_count": 41,
     "metadata": {},
     "output_type": "execute_result"
    }
   ],
   "source": [
    "data_d['propertyType'].value_counts(normalize=True)"
   ]
  },
  {
   "cell_type": "markdown",
   "metadata": {},
   "source": [
    "Преобразование к численному виду."
   ]
  },
  {
   "cell_type": "code",
   "execution_count": 42,
   "metadata": {
    "execution": {
     "iopub.execute_input": "2022-09-13T19:10:30.178782Z",
     "iopub.status.busy": "2022-09-13T19:10:30.178304Z",
     "iopub.status.idle": "2022-09-13T19:10:30.336054Z",
     "shell.execute_reply": "2022-09-13T19:10:30.334910Z",
     "shell.execute_reply.started": "2022-09-13T19:10:30.178750Z"
    }
   },
   "outputs": [],
   "source": [
    "data_d['propertyType'] = data_d['propertyType'].astype('category')\n",
    "data_d['propertyType_cat'] = data_d['propertyType'].cat.codes"
   ]
  },
  {
   "cell_type": "markdown",
   "metadata": {},
   "source": [
    " # площадь"
   ]
  },
  {
   "cell_type": "markdown",
   "metadata": {},
   "source": [
    "Вспомогательная функция для получения численного значения площади. Если значение некорректно, выдает ноль."
   ]
  },
  {
   "cell_type": "code",
   "execution_count": 43,
   "metadata": {
    "execution": {
     "iopub.execute_input": "2022-09-13T19:10:30.338670Z",
     "iopub.status.busy": "2022-09-13T19:10:30.337506Z",
     "iopub.status.idle": "2022-09-13T19:10:30.351082Z",
     "shell.execute_reply": "2022-09-13T19:10:30.349761Z",
     "shell.execute_reply.started": "2022-09-13T19:10:30.338623Z"
    }
   },
   "outputs": [],
   "source": [
    "def extract_num_recurr_sqft(stroka,first_digit,len_s,i):\n",
    "    if i == len_s and stroka[i].isdigit():\n",
    "        return (float(first_digit + str(stroka[i])))\n",
    "    elif i < len_s and (stroka[i].isdigit() or stroka[i] == '.'):\n",
    "        return extract_num_recurr_sqft(stroka, (first_digit + str(stroka[i])), len_s, i+1)\n",
    "    elif i < len_s and stroka[i] == ',':\n",
    "        return extract_num_recurr_sqft(stroka, first_digit, len_s, i+1)\n",
    "    else: return(float(first_digit))\n",
    "                        \n",
    "def extract_num_sqft(stroka,len_s,i):\n",
    "  \n",
    "    if i == len_s and not stroka[i].isdigit():\n",
    "        return 0\n",
    "    elif i == len_s and stroka[i].isdigit():\n",
    "        return float(stroka[i])\n",
    "    elif i < len_s and stroka[i].isdigit():\n",
    "        return extract_num_recurr_sqft(stroka,str(stroka[i]),len_s,i+1)\n",
    "    else: return extract_num_sqft(stroka,len_s,i+1)\n",
    "\n",
    "def main_extract_num_sqft(stroka):   \n",
    "    len_s=len(stroka)-1\n",
    "    \n",
    "    return extract_num_sqft(stroka,len_s,0)"
   ]
  },
  {
   "cell_type": "code",
   "execution_count": 44,
   "metadata": {
    "execution": {
     "iopub.execute_input": "2022-09-13T19:10:30.353038Z",
     "iopub.status.busy": "2022-09-13T19:10:30.352429Z",
     "iopub.status.idle": "2022-09-13T19:10:31.983290Z",
     "shell.execute_reply": "2022-09-13T19:10:31.982318Z",
     "shell.execute_reply.started": "2022-09-13T19:10:30.353001Z"
    }
   },
   "outputs": [],
   "source": [
    "data_d.sqft = data_d.sqft.apply(lambda x: main_extract_num_sqft(str(x)))"
   ]
  },
  {
   "cell_type": "code",
   "execution_count": 45,
   "metadata": {
    "execution": {
     "iopub.execute_input": "2022-09-13T19:10:31.985042Z",
     "iopub.status.busy": "2022-09-13T19:10:31.984671Z",
     "iopub.status.idle": "2022-09-13T19:16:59.093005Z",
     "shell.execute_reply": "2022-09-13T19:16:59.091504Z",
     "shell.execute_reply.started": "2022-09-13T19:10:31.985008Z"
    }
   },
   "outputs": [],
   "source": [
    "data_d.sqft = data_d.sqft.apply(lambda x: data_d['sqft'].median() if x == 0 else x)"
   ]
  },
  {
   "cell_type": "code",
   "execution_count": 46,
   "metadata": {
    "execution": {
     "iopub.execute_input": "2022-09-13T19:16:59.095417Z",
     "iopub.status.busy": "2022-09-13T19:16:59.095070Z",
     "iopub.status.idle": "2022-09-13T19:16:59.114041Z",
     "shell.execute_reply": "2022-09-13T19:16:59.112885Z",
     "shell.execute_reply.started": "2022-09-13T19:16:59.095384Z"
    }
   },
   "outputs": [
    {
     "data": {
      "text/plain": [
       "1653.0       53336\n",
       "1200.0        1426\n",
       "1000.0        1027\n",
       "1500.0        1014\n",
       "1800.0         988\n",
       "             ...  \n",
       "5728968.0        1\n",
       "12503.0          1\n",
       "8815.0           1\n",
       "15391.0          1\n",
       "13870.0          1\n",
       "Name: sqft, Length: 9895, dtype: int64"
      ]
     },
     "execution_count": 46,
     "metadata": {},
     "output_type": "execute_result"
    }
   ],
   "source": [
    "data_d['sqft'].value_counts()"
   ]
  },
  {
   "cell_type": "markdown",
   "metadata": {},
   "source": [
    "# Признаки город и штат"
   ]
  },
  {
   "cell_type": "markdown",
   "metadata": {},
   "source": [
    "Объединение в один признак, приведение к численному виду."
   ]
  },
  {
   "cell_type": "code",
   "execution_count": 47,
   "metadata": {
    "execution": {
     "iopub.execute_input": "2022-09-13T19:16:59.115997Z",
     "iopub.status.busy": "2022-09-13T19:16:59.115421Z",
     "iopub.status.idle": "2022-09-13T19:16:59.215275Z",
     "shell.execute_reply": "2022-09-13T19:16:59.214094Z",
     "shell.execute_reply.started": "2022-09-13T19:16:59.115933Z"
    }
   },
   "outputs": [],
   "source": [
    "data_d['sity_state']=data_d['city'].astype(str) + \" \" +data_d['state'].astype(str)\n"
   ]
  },
  {
   "cell_type": "code",
   "execution_count": 48,
   "metadata": {
    "execution": {
     "iopub.execute_input": "2022-09-13T19:16:59.216984Z",
     "iopub.status.busy": "2022-09-13T19:16:59.216639Z",
     "iopub.status.idle": "2022-09-13T19:16:59.270680Z",
     "shell.execute_reply": "2022-09-13T19:16:59.269391Z",
     "shell.execute_reply.started": "2022-09-13T19:16:59.216941Z"
    }
   },
   "outputs": [],
   "source": [
    "data_d['sity_state'] = data_d['sity_state'].astype('category')\n",
    "data_d['sity_state_cat'] = data_d['sity_state'].cat.codes"
   ]
  },
  {
   "cell_type": "markdown",
   "metadata": {},
   "source": [
    " # Stories (надеюсь, это этажи)"
   ]
  },
  {
   "cell_type": "code",
   "execution_count": 49,
   "metadata": {
    "execution": {
     "iopub.execute_input": "2022-09-13T19:16:59.272693Z",
     "iopub.status.busy": "2022-09-13T19:16:59.272337Z",
     "iopub.status.idle": "2022-09-13T19:16:59.305147Z",
     "shell.execute_reply": "2022-09-13T19:16:59.303686Z",
     "shell.execute_reply.started": "2022-09-13T19:16:59.272659Z"
    }
   },
   "outputs": [
    {
     "data": {
      "text/plain": [
       "1.0                                  67454\n",
       "2.0                                  55283\n",
       "1                                    23086\n",
       "2                                    18146\n",
       "3.0                                  11275\n",
       "                                     ...  \n",
       "Manufactured Home, Non-Site Built        1\n",
       "Bedroom - Split Plan                     1\n",
       "78                                       1\n",
       "One, Two, Multi/Split                    1\n",
       "65.0                                     1\n",
       "Name: stories, Length: 348, dtype: int64"
      ]
     },
     "execution_count": 49,
     "metadata": {},
     "output_type": "execute_result"
    }
   ],
   "source": [
    "data_d['stories'].value_counts()"
   ]
  },
  {
   "cell_type": "code",
   "execution_count": 50,
   "metadata": {
    "execution": {
     "iopub.execute_input": "2022-09-13T19:16:59.306929Z",
     "iopub.status.busy": "2022-09-13T19:16:59.306570Z",
     "iopub.status.idle": "2022-09-13T19:17:00.205542Z",
     "shell.execute_reply": "2022-09-13T19:17:00.204361Z",
     "shell.execute_reply.started": "2022-09-13T19:16:59.306898Z"
    }
   },
   "outputs": [],
   "source": [
    "data_d.stories = data_d.stories.apply(lambda x: main_extract_num_bath(str(x)))\n"
   ]
  },
  {
   "cell_type": "code",
   "execution_count": 51,
   "metadata": {
    "execution": {
     "iopub.execute_input": "2022-09-13T19:17:00.207809Z",
     "iopub.status.busy": "2022-09-13T19:17:00.207303Z",
     "iopub.status.idle": "2022-09-13T19:17:00.226423Z",
     "shell.execute_reply": "2022-09-13T19:17:00.225072Z",
     "shell.execute_reply.started": "2022-09-13T19:17:00.207758Z"
    }
   },
   "outputs": [
    {
     "data": {
      "text/plain": [
       "0.0       174303\n",
       "1.0        93924\n",
       "2.0        79240\n",
       "3.0        17212\n",
       "9.0         3386\n",
       "           ...  \n",
       "1120.0         1\n",
       "2.2            1\n",
       "1002.0         1\n",
       "96.0           1\n",
       "65.0           1\n",
       "Name: stories, Length: 85, dtype: int64"
      ]
     },
     "execution_count": 51,
     "metadata": {},
     "output_type": "execute_result"
    }
   ],
   "source": [
    "data_d['stories'].value_counts()"
   ]
  },
  {
   "cell_type": "markdown",
   "metadata": {},
   "source": [
    " # Status"
   ]
  },
  {
   "cell_type": "code",
   "execution_count": 52,
   "metadata": {
    "execution": {
     "iopub.execute_input": "2022-09-13T19:17:00.229057Z",
     "iopub.status.busy": "2022-09-13T19:17:00.227847Z",
     "iopub.status.idle": "2022-09-13T19:17:00.267826Z",
     "shell.execute_reply": "2022-09-13T19:17:00.266700Z",
     "shell.execute_reply.started": "2022-09-13T19:17:00.229016Z"
    }
   },
   "outputs": [
    {
     "data": {
      "text/plain": [
       "for sale                156104\n",
       "Active                  105207\n",
       "For sale                 43465\n",
       "foreclosure               6426\n",
       "New construction          5475\n",
       "                         ...  \n",
       "Contingent   No Show         1\n",
       "Coming soon: Oct 24.         1\n",
       "Coming soon: Oct 21.         1\n",
       "Coming soon: Nov 14.         1\n",
       "Coming soon: Dec 23.         1\n",
       "Name: status, Length: 159, dtype: int64"
      ]
     },
     "execution_count": 52,
     "metadata": {},
     "output_type": "execute_result"
    }
   ],
   "source": [
    "data_d['status'].value_counts()"
   ]
  },
  {
   "cell_type": "code",
   "execution_count": 53,
   "metadata": {
    "execution": {
     "iopub.execute_input": "2022-09-13T19:17:00.269168Z",
     "iopub.status.busy": "2022-09-13T19:17:00.268820Z",
     "iopub.status.idle": "2022-09-13T19:17:00.360401Z",
     "shell.execute_reply": "2022-09-13T19:17:00.359347Z",
     "shell.execute_reply.started": "2022-09-13T19:17:00.269135Z"
    }
   },
   "outputs": [],
   "source": [
    "data_d.status = data_d.status.apply(lambda x: 'for_sale' if x in ['for sale','For sale'] else x)"
   ]
  },
  {
   "cell_type": "markdown",
   "metadata": {},
   "source": [
    "Я бы предположила, что active - это на самом деле тоже for sale, но на всякий случай пока оставлю."
   ]
  },
  {
   "cell_type": "code",
   "execution_count": 54,
   "metadata": {
    "execution": {
     "iopub.execute_input": "2022-09-13T19:17:00.362374Z",
     "iopub.status.busy": "2022-09-13T19:17:00.362050Z",
     "iopub.status.idle": "2022-09-13T19:17:00.391899Z",
     "shell.execute_reply": "2022-09-13T19:17:00.390976Z",
     "shell.execute_reply.started": "2022-09-13T19:17:00.362344Z"
    }
   },
   "outputs": [
    {
     "data": {
      "text/plain": [
       "for_sale                   199569\n",
       "Active                     105207\n",
       "foreclosure                  6426\n",
       "New construction             5475\n",
       "Pending                      4702\n",
       "                            ...  \n",
       "Coming soon: Oct 29.            1\n",
       "Coming soon: Dec 15.            1\n",
       "Pending W/Backup Wanted         1\n",
       "Pending Backups Wanted          1\n",
       "Coming soon: Dec 23.            1\n",
       "Name: status, Length: 158, dtype: int64"
      ]
     },
     "execution_count": 54,
     "metadata": {},
     "output_type": "execute_result"
    }
   ],
   "source": [
    "data_d['status'].value_counts()"
   ]
  },
  {
   "cell_type": "markdown",
   "metadata": {},
   "source": [
    "Приведение к численному виду."
   ]
  },
  {
   "cell_type": "code",
   "execution_count": 55,
   "metadata": {
    "execution": {
     "iopub.execute_input": "2022-09-13T19:17:00.393770Z",
     "iopub.status.busy": "2022-09-13T19:17:00.393449Z",
     "iopub.status.idle": "2022-09-13T19:17:00.525596Z",
     "shell.execute_reply": "2022-09-13T19:17:00.524351Z",
     "shell.execute_reply.started": "2022-09-13T19:17:00.393742Z"
    }
   },
   "outputs": [],
   "source": [
    "data_d['status'] = data_d['status'].astype('category')\n",
    "data_d['status_cat'] = data_d['status'].cat.codes"
   ]
  },
  {
   "cell_type": "markdown",
   "metadata": {},
   "source": [
    "# Выбор предварительного датафрейма для модели"
   ]
  },
  {
   "cell_type": "code",
   "execution_count": 56,
   "metadata": {
    "execution": {
     "iopub.execute_input": "2022-09-13T19:17:00.527472Z",
     "iopub.status.busy": "2022-09-13T19:17:00.527101Z",
     "iopub.status.idle": "2022-09-13T19:17:00.765522Z",
     "shell.execute_reply": "2022-09-13T19:17:00.764259Z",
     "shell.execute_reply.started": "2022-09-13T19:17:00.527439Z"
    }
   },
   "outputs": [
    {
     "name": "stdout",
     "output_type": "stream",
     "text": [
      "<class 'pandas.core.frame.DataFrame'>\n",
      "Int64Index: 377184 entries, 0 to 377184\n",
      "Data columns (total 22 columns):\n",
      " #   Column            Non-Null Count   Dtype   \n",
      "---  ------            --------------   -----   \n",
      " 0   status            337266 non-null  category\n",
      " 1   private pool      4181 non-null    object  \n",
      " 2   propertyType      342451 non-null  category\n",
      " 3   street            377182 non-null  object  \n",
      " 4   baths             377184 non-null  float64 \n",
      " 5   homeFacts         377184 non-null  object  \n",
      " 6   fireplace         377184 non-null  int64   \n",
      " 7   city              377150 non-null  object  \n",
      " 8   schools           377184 non-null  object  \n",
      " 9   sqft              377184 non-null  float64 \n",
      " 10  zipcode           377184 non-null  object  \n",
      " 11  beds              377184 non-null  int64   \n",
      " 12  state             377184 non-null  object  \n",
      " 13  stories           377184 non-null  float64 \n",
      " 14  mls-id            24942 non-null   object  \n",
      " 15  PrivatePool       40311 non-null   object  \n",
      " 16  MlsId             310304 non-null  object  \n",
      " 17  target            373458 non-null  float64 \n",
      " 18  propertyType_cat  377184 non-null  int16   \n",
      " 19  sity_state        377184 non-null  category\n",
      " 20  sity_state_cat    377184 non-null  int16   \n",
      " 21  status_cat        377184 non-null  int16   \n",
      "dtypes: category(3), float64(4), int16(3), int64(2), object(10)\n",
      "memory usage: 61.4+ MB\n"
     ]
    }
   ],
   "source": [
    "data_d.info()"
   ]
  },
  {
   "cell_type": "code",
   "execution_count": 57,
   "metadata": {
    "execution": {
     "iopub.execute_input": "2022-09-13T19:17:00.768157Z",
     "iopub.status.busy": "2022-09-13T19:17:00.767806Z",
     "iopub.status.idle": "2022-09-13T19:17:00.788937Z",
     "shell.execute_reply": "2022-09-13T19:17:00.787664Z",
     "shell.execute_reply.started": "2022-09-13T19:17:00.768126Z"
    }
   },
   "outputs": [],
   "source": [
    "data_d_preliminary=data_d[['status_cat','propertyType_cat','baths','fireplace','sqft','beds','stories','sity_state_cat','target']]"
   ]
  },
  {
   "cell_type": "code",
   "execution_count": 58,
   "metadata": {
    "execution": {
     "iopub.execute_input": "2022-09-13T19:17:00.790427Z",
     "iopub.status.busy": "2022-09-13T19:17:00.790126Z",
     "iopub.status.idle": "2022-09-13T19:17:00.814629Z",
     "shell.execute_reply": "2022-09-13T19:17:00.813178Z",
     "shell.execute_reply.started": "2022-09-13T19:17:00.790398Z"
    }
   },
   "outputs": [
    {
     "data": {
      "text/html": [
       "<div>\n",
       "<style scoped>\n",
       "    .dataframe tbody tr th:only-of-type {\n",
       "        vertical-align: middle;\n",
       "    }\n",
       "\n",
       "    .dataframe tbody tr th {\n",
       "        vertical-align: top;\n",
       "    }\n",
       "\n",
       "    .dataframe thead th {\n",
       "        text-align: right;\n",
       "    }\n",
       "</style>\n",
       "<table border=\"1\" class=\"dataframe\">\n",
       "  <thead>\n",
       "    <tr style=\"text-align: right;\">\n",
       "      <th></th>\n",
       "      <th>status_cat</th>\n",
       "      <th>propertyType_cat</th>\n",
       "      <th>baths</th>\n",
       "      <th>fireplace</th>\n",
       "      <th>sqft</th>\n",
       "      <th>beds</th>\n",
       "      <th>stories</th>\n",
       "      <th>sity_state_cat</th>\n",
       "      <th>target</th>\n",
       "    </tr>\n",
       "  </thead>\n",
       "  <tbody>\n",
       "    <tr>\n",
       "      <th>0</th>\n",
       "      <td>4</td>\n",
       "      <td>1275</td>\n",
       "      <td>3.5</td>\n",
       "      <td>0</td>\n",
       "      <td>2900.0</td>\n",
       "      <td>0</td>\n",
       "      <td>0.0</td>\n",
       "      <td>1863</td>\n",
       "      <td>12.943237</td>\n",
       "    </tr>\n",
       "    <tr>\n",
       "      <th>1</th>\n",
       "      <td>154</td>\n",
       "      <td>1275</td>\n",
       "      <td>3.0</td>\n",
       "      <td>0</td>\n",
       "      <td>1947.0</td>\n",
       "      <td>3</td>\n",
       "      <td>2.0</td>\n",
       "      <td>1872</td>\n",
       "      <td>12.644328</td>\n",
       "    </tr>\n",
       "    <tr>\n",
       "      <th>2</th>\n",
       "      <td>154</td>\n",
       "      <td>1275</td>\n",
       "      <td>2.0</td>\n",
       "      <td>1</td>\n",
       "      <td>3000.0</td>\n",
       "      <td>3</td>\n",
       "      <td>1.0</td>\n",
       "      <td>1149</td>\n",
       "      <td>14.878496</td>\n",
       "    </tr>\n",
       "    <tr>\n",
       "      <th>3</th>\n",
       "      <td>154</td>\n",
       "      <td>1275</td>\n",
       "      <td>8.0</td>\n",
       "      <td>1</td>\n",
       "      <td>6457.0</td>\n",
       "      <td>5</td>\n",
       "      <td>3.0</td>\n",
       "      <td>486</td>\n",
       "      <td>14.688894</td>\n",
       "    </tr>\n",
       "    <tr>\n",
       "      <th>4</th>\n",
       "      <td>154</td>\n",
       "      <td>1272</td>\n",
       "      <td>0.0</td>\n",
       "      <td>0</td>\n",
       "      <td>1653.0</td>\n",
       "      <td>0</td>\n",
       "      <td>0.0</td>\n",
       "      <td>1476</td>\n",
       "      <td>8.517193</td>\n",
       "    </tr>\n",
       "    <tr>\n",
       "      <th>...</th>\n",
       "      <td>...</td>\n",
       "      <td>...</td>\n",
       "      <td>...</td>\n",
       "      <td>...</td>\n",
       "      <td>...</td>\n",
       "      <td>...</td>\n",
       "      <td>...</td>\n",
       "      <td>...</td>\n",
       "      <td>...</td>\n",
       "    </tr>\n",
       "    <tr>\n",
       "      <th>377180</th>\n",
       "      <td>-1</td>\n",
       "      <td>1275</td>\n",
       "      <td>6.0</td>\n",
       "      <td>0</td>\n",
       "      <td>4017.0</td>\n",
       "      <td>0</td>\n",
       "      <td>0.0</td>\n",
       "      <td>1239</td>\n",
       "      <td>14.037854</td>\n",
       "    </tr>\n",
       "    <tr>\n",
       "      <th>377181</th>\n",
       "      <td>154</td>\n",
       "      <td>1270</td>\n",
       "      <td>3.0</td>\n",
       "      <td>0</td>\n",
       "      <td>2000.0</td>\n",
       "      <td>3</td>\n",
       "      <td>9.0</td>\n",
       "      <td>356</td>\n",
       "      <td>13.422466</td>\n",
       "    </tr>\n",
       "    <tr>\n",
       "      <th>377182</th>\n",
       "      <td>154</td>\n",
       "      <td>1275</td>\n",
       "      <td>3.0</td>\n",
       "      <td>0</td>\n",
       "      <td>1152.0</td>\n",
       "      <td>3</td>\n",
       "      <td>2.0</td>\n",
       "      <td>963</td>\n",
       "      <td>13.176852</td>\n",
       "    </tr>\n",
       "    <tr>\n",
       "      <th>377183</th>\n",
       "      <td>-1</td>\n",
       "      <td>-1</td>\n",
       "      <td>0.0</td>\n",
       "      <td>0</td>\n",
       "      <td>1653.0</td>\n",
       "      <td>0</td>\n",
       "      <td>0.0</td>\n",
       "      <td>906</td>\n",
       "      <td>10.448715</td>\n",
       "    </tr>\n",
       "    <tr>\n",
       "      <th>377184</th>\n",
       "      <td>-1</td>\n",
       "      <td>1275</td>\n",
       "      <td>2.0</td>\n",
       "      <td>0</td>\n",
       "      <td>1462.0</td>\n",
       "      <td>0</td>\n",
       "      <td>1.0</td>\n",
       "      <td>1740</td>\n",
       "      <td>12.230277</td>\n",
       "    </tr>\n",
       "  </tbody>\n",
       "</table>\n",
       "<p>377184 rows × 9 columns</p>\n",
       "</div>"
      ],
      "text/plain": [
       "        status_cat  propertyType_cat  baths  fireplace    sqft  beds  stories  \\\n",
       "0                4              1275    3.5          0  2900.0     0      0.0   \n",
       "1              154              1275    3.0          0  1947.0     3      2.0   \n",
       "2              154              1275    2.0          1  3000.0     3      1.0   \n",
       "3              154              1275    8.0          1  6457.0     5      3.0   \n",
       "4              154              1272    0.0          0  1653.0     0      0.0   \n",
       "...            ...               ...    ...        ...     ...   ...      ...   \n",
       "377180          -1              1275    6.0          0  4017.0     0      0.0   \n",
       "377181         154              1270    3.0          0  2000.0     3      9.0   \n",
       "377182         154              1275    3.0          0  1152.0     3      2.0   \n",
       "377183          -1                -1    0.0          0  1653.0     0      0.0   \n",
       "377184          -1              1275    2.0          0  1462.0     0      1.0   \n",
       "\n",
       "        sity_state_cat     target  \n",
       "0                 1863  12.943237  \n",
       "1                 1872  12.644328  \n",
       "2                 1149  14.878496  \n",
       "3                  486  14.688894  \n",
       "4                 1476   8.517193  \n",
       "...                ...        ...  \n",
       "377180            1239  14.037854  \n",
       "377181             356  13.422466  \n",
       "377182             963  13.176852  \n",
       "377183             906  10.448715  \n",
       "377184            1740  12.230277  \n",
       "\n",
       "[377184 rows x 9 columns]"
      ]
     },
     "execution_count": 58,
     "metadata": {},
     "output_type": "execute_result"
    }
   ],
   "source": [
    "data_d_preliminary"
   ]
  },
  {
   "cell_type": "code",
   "execution_count": 59,
   "metadata": {
    "execution": {
     "iopub.execute_input": "2022-09-13T19:17:00.816335Z",
     "iopub.status.busy": "2022-09-13T19:17:00.815989Z",
     "iopub.status.idle": "2022-09-13T19:17:00.831748Z",
     "shell.execute_reply": "2022-09-13T19:17:00.830499Z",
     "shell.execute_reply.started": "2022-09-13T19:17:00.816301Z"
    }
   },
   "outputs": [
    {
     "data": {
      "text/plain": [
       "status_cat             0\n",
       "propertyType_cat       0\n",
       "baths                  0\n",
       "fireplace              0\n",
       "sqft                   0\n",
       "beds                   0\n",
       "stories                0\n",
       "sity_state_cat         0\n",
       "target              3726\n",
       "dtype: int64"
      ]
     },
     "execution_count": 59,
     "metadata": {},
     "output_type": "execute_result"
    }
   ],
   "source": [
    "data_d_preliminary.isnull().sum()"
   ]
  },
  {
   "cell_type": "markdown",
   "metadata": {},
   "source": [
    "# Визуализация"
   ]
  },
  {
   "cell_type": "code",
   "execution_count": 60,
   "metadata": {
    "execution": {
     "iopub.execute_input": "2022-09-13T19:17:00.833866Z",
     "iopub.status.busy": "2022-09-13T19:17:00.833466Z",
     "iopub.status.idle": "2022-09-13T19:17:01.599983Z",
     "shell.execute_reply": "2022-09-13T19:17:01.598820Z",
     "shell.execute_reply.started": "2022-09-13T19:17:00.833819Z"
    }
   },
   "outputs": [
    {
     "data": {
      "text/plain": [
       "(9.5, -0.5)"
      ]
     },
     "execution_count": 60,
     "metadata": {},
     "output_type": "execute_result"
    },
    {
     "data": {
      "image/png": "[encoded data removed]",
      "text/plain": [
       "<Figure size 1296x720 with 2 Axes>"
      ]
     },
     "metadata": {
      "needs_background": "light"
     },
     "output_type": "display_data"
    }
   ],
   "source": [
    "plt.figure(figsize=(18, 10))\n",
    "ax = sns.heatmap(data_d_preliminary.corr().abs(), vmin=0, vmax=1, annot = True)\n",
    "i, k = ax.get_ylim()\n",
    "ax.set_ylim(i+0.5, k-0.5)"
   ]
  },
  {
   "cell_type": "code",
   "execution_count": 61,
   "metadata": {
    "execution": {
     "iopub.execute_input": "2022-09-13T19:17:01.601804Z",
     "iopub.status.busy": "2022-09-13T19:17:01.601460Z",
     "iopub.status.idle": "2022-09-13T19:17:01.609327Z",
     "shell.execute_reply": "2022-09-13T19:17:01.608066Z",
     "shell.execute_reply.started": "2022-09-13T19:17:01.601774Z"
    }
   },
   "outputs": [],
   "source": [
    "#  подготовка данных для графиков\n",
    "x1 = data_d_preliminary['propertyType_cat']\n",
    "x2 = data_d_preliminary['status_cat']\n",
    "x3 = data_d_preliminary['baths']\n",
    "x4 = data_d_preliminary['fireplace']\n",
    "x5 = data_d_preliminary['sqft']\n",
    "x6 = data_d_preliminary['beds']\n",
    "x7 = data_d_preliminary['stories']\n",
    "x8 = data_d_preliminary['sity_state_cat']\n",
    "\n",
    "y = data_d_preliminary['target']"
   ]
  },
  {
   "cell_type": "code",
   "execution_count": 62,
   "metadata": {
    "execution": {
     "iopub.execute_input": "2022-09-13T19:17:01.611232Z",
     "iopub.status.busy": "2022-09-13T19:17:01.610851Z",
     "iopub.status.idle": "2022-09-13T19:17:02.487325Z",
     "shell.execute_reply": "2022-09-13T19:17:02.486189Z",
     "shell.execute_reply.started": "2022-09-13T19:17:01.611197Z"
    }
   },
   "outputs": [
    {
     "data": {
      "text/plain": [
       "Text(0.5, 1.0, 'Зависимость цены от статуса продажи')"
      ]
     },
     "execution_count": 62,
     "metadata": {},
     "output_type": "execute_result"
    },
    {
     "data": {
      "image/png": "[encoded data removed]",
      "text/plain": [
       "<Figure size 720x432 with 1 Axes>"
      ]
     },
     "metadata": {
      "needs_background": "light"
     },
     "output_type": "display_data"
    }
   ],
   "source": [
    "plt.figure(figsize = (10,6))\n",
    "plt.scatter(x2, y)\n",
    " \n",
    "# добавим подписи\n",
    "plt.xlabel('Статус продажи', fontsize = 15)\n",
    "plt.ylabel('Цена', fontsize = 15)\n",
    "plt.title('Зависимость цены от статуса продажи', fontsize = 18)"
   ]
  },
  {
   "cell_type": "code",
   "execution_count": 63,
   "metadata": {
    "execution": {
     "iopub.execute_input": "2022-09-13T19:17:02.488910Z",
     "iopub.status.busy": "2022-09-13T19:17:02.488579Z",
     "iopub.status.idle": "2022-09-13T19:17:03.354318Z",
     "shell.execute_reply": "2022-09-13T19:17:03.353128Z",
     "shell.execute_reply.started": "2022-09-13T19:17:02.488880Z"
    }
   },
   "outputs": [
    {
     "data": {
      "text/plain": [
       "Text(0.5, 1.0, 'Зависимость цены от типа недвижимости')"
      ]
     },
     "execution_count": 63,
     "metadata": {},
     "output_type": "execute_result"
    },
    {
     "data": {
      "image/png": "[encoded data removed]",
      "text/plain": [
       "<Figure size 720x432 with 1 Axes>"
      ]
     },
     "metadata": {
      "needs_background": "light"
     },
     "output_type": "display_data"
    }
   ],
   "source": [
    "plt.figure(figsize = (10,6))\n",
    "plt.scatter(x1, y)\n",
    " \n",
    "# добавим подписи\n",
    "plt.xlabel('Тип недвижимости', fontsize = 15)\n",
    "plt.ylabel('Цена', fontsize = 15)\n",
    "plt.title('Зависимость цены от типа недвижимости', fontsize = 18)"
   ]
  },
  {
   "cell_type": "code",
   "execution_count": 64,
   "metadata": {
    "execution": {
     "iopub.execute_input": "2022-09-13T19:17:03.356829Z",
     "iopub.status.busy": "2022-09-13T19:17:03.356129Z",
     "iopub.status.idle": "2022-09-13T19:17:04.206624Z",
     "shell.execute_reply": "2022-09-13T19:17:04.205753Z",
     "shell.execute_reply.started": "2022-09-13T19:17:03.356780Z"
    }
   },
   "outputs": [
    {
     "data": {
      "text/plain": [
       "Text(0.5, 1.0, 'Зависимость цены от наличия камина')"
      ]
     },
     "execution_count": 64,
     "metadata": {},
     "output_type": "execute_result"
    },
    {
     "data": {
      "image/png": "[encoded data removed]",
      "text/plain": [
       "<Figure size 720x432 with 1 Axes>"
      ]
     },
     "metadata": {
      "needs_background": "light"
     },
     "output_type": "display_data"
    }
   ],
   "source": [
    "plt.figure(figsize = (10,6))\n",
    "plt.scatter(x4, y)\n",
    " \n",
    "# добавим подписи\n",
    "plt.xlabel('Камин', fontsize = 15)\n",
    "plt.ylabel('Цена', fontsize = 15)\n",
    "plt.title('Зависимость цены от наличия камина', fontsize = 18)"
   ]
  },
  {
   "cell_type": "code",
   "execution_count": 65,
   "metadata": {
    "execution": {
     "iopub.execute_input": "2022-09-13T19:17:04.209007Z",
     "iopub.status.busy": "2022-09-13T19:17:04.208296Z",
     "iopub.status.idle": "2022-09-13T19:17:05.057324Z",
     "shell.execute_reply": "2022-09-13T19:17:05.056177Z",
     "shell.execute_reply.started": "2022-09-13T19:17:04.208942Z"
    }
   },
   "outputs": [
    {
     "data": {
      "text/plain": [
       "Text(0.5, 1.0, 'Зависимость цены от площади')"
      ]
     },
     "execution_count": 65,
     "metadata": {},
     "output_type": "execute_result"
    },
    {
     "data": {
      "image/png": "[encoded data removed]",
      "text/plain": [
       "<Figure size 720x432 with 1 Axes>"
      ]
     },
     "metadata": {
      "needs_background": "light"
     },
     "output_type": "display_data"
    }
   ],
   "source": [
    "plt.figure(figsize = (10,6))\n",
    "plt.scatter(x5, y)\n",
    " \n",
    "# добавим подписи\n",
    "plt.xlabel('Площадь', fontsize = 15)\n",
    "plt.ylabel('Цена', fontsize = 15)\n",
    "plt.title('Зависимость цены от площади', fontsize = 18)"
   ]
  },
  {
   "cell_type": "code",
   "execution_count": 66,
   "metadata": {
    "execution": {
     "iopub.execute_input": "2022-09-13T19:17:05.059448Z",
     "iopub.status.busy": "2022-09-13T19:17:05.058632Z",
     "iopub.status.idle": "2022-09-13T19:17:05.899131Z",
     "shell.execute_reply": "2022-09-13T19:17:05.897754Z",
     "shell.execute_reply.started": "2022-09-13T19:17:05.059414Z"
    }
   },
   "outputs": [
    {
     "data": {
      "text/plain": [
       "Text(0.5, 1.0, 'Зависимость цены от количества комнат')"
      ]
     },
     "execution_count": 66,
     "metadata": {},
     "output_type": "execute_result"
    },
    {
     "data": {
      "image/png": "[encoded data removed]",
      "text/plain": [
       "<Figure size 720x432 with 1 Axes>"
      ]
     },
     "metadata": {
      "needs_background": "light"
     },
     "output_type": "display_data"
    }
   ],
   "source": [
    "plt.figure(figsize = (10,6))\n",
    "plt.scatter(x6, y)\n",
    " \n",
    "# добавим подписи\n",
    "plt.xlabel('Количество комнат', fontsize = 15)\n",
    "plt.ylabel('Цена', fontsize = 15)\n",
    "plt.title('Зависимость цены от количества комнат', fontsize = 18)"
   ]
  },
  {
   "cell_type": "code",
   "execution_count": 67,
   "metadata": {
    "execution": {
     "iopub.execute_input": "2022-09-13T19:17:05.901161Z",
     "iopub.status.busy": "2022-09-13T19:17:05.900754Z",
     "iopub.status.idle": "2022-09-13T19:17:06.739754Z",
     "shell.execute_reply": "2022-09-13T19:17:06.738526Z",
     "shell.execute_reply.started": "2022-09-13T19:17:05.901120Z"
    }
   },
   "outputs": [
    {
     "data": {
      "text/plain": [
       "Text(0.5, 1.0, 'Зависимость цены от этажа')"
      ]
     },
     "execution_count": 67,
     "metadata": {},
     "output_type": "execute_result"
    },
    {
     "data": {
      "image/png": "[encoded data removed]",
      "text/plain": [
       "<Figure size 720x432 with 1 Axes>"
      ]
     },
     "metadata": {
      "needs_background": "light"
     },
     "output_type": "display_data"
    }
   ],
   "source": [
    "plt.figure(figsize = (10,6))\n",
    "plt.scatter(x7, y)\n",
    " \n",
    "# добавим подписи\n",
    "plt.xlabel('Этаж', fontsize = 15)\n",
    "plt.ylabel('Цена', fontsize = 15)\n",
    "plt.title('Зависимость цены от этажа', fontsize = 18)"
   ]
  },
  {
   "cell_type": "code",
   "execution_count": 68,
   "metadata": {
    "execution": {
     "iopub.execute_input": "2022-09-13T19:17:06.741747Z",
     "iopub.status.busy": "2022-09-13T19:17:06.741362Z",
     "iopub.status.idle": "2022-09-13T19:17:07.590106Z",
     "shell.execute_reply": "2022-09-13T19:17:07.589287Z",
     "shell.execute_reply.started": "2022-09-13T19:17:06.741715Z"
    }
   },
   "outputs": [
    {
     "data": {
      "text/plain": [
       "Text(0.5, 1.0, 'Зависимость цены от города')"
      ]
     },
     "execution_count": 68,
     "metadata": {},
     "output_type": "execute_result"
    },
    {
     "data": {
      "image/png": "[encoded data removed]",
      "text/plain": [
       "<Figure size 720x432 with 1 Axes>"
      ]
     },
     "metadata": {
      "needs_background": "light"
     },
     "output_type": "display_data"
    }
   ],
   "source": [
    "plt.figure(figsize = (10,6))\n",
    "plt.scatter(x8, y)\n",
    " \n",
    "# добавим подписи\n",
    "plt.xlabel('Город', fontsize = 15)\n",
    "plt.ylabel('Цена', fontsize = 15)\n",
    "plt.title('Зависимость цены от города', fontsize = 18)"
   ]
  },
  {
   "cell_type": "code",
   "execution_count": 69,
   "metadata": {
    "execution": {
     "iopub.execute_input": "2022-09-13T19:17:07.591829Z",
     "iopub.status.busy": "2022-09-13T19:17:07.591291Z",
     "iopub.status.idle": "2022-09-13T19:17:07.777733Z",
     "shell.execute_reply": "2022-09-13T19:17:07.776564Z",
     "shell.execute_reply.started": "2022-09-13T19:17:07.591795Z"
    }
   },
   "outputs": [
    {
     "data": {
      "text/plain": [
       "<AxesSubplot:xlabel='status_cat'>"
      ]
     },
     "execution_count": 69,
     "metadata": {},
     "output_type": "execute_result"
    },
    {
     "data": {
      "image/png": "[encoded data removed]",
      "text/plain": [
       "<Figure size 460.8x316.8 with 1 Axes>"
      ]
     },
     "metadata": {
      "needs_background": "light"
     },
     "output_type": "display_data"
    }
   ],
   "source": [
    "#data_d_preliminary=data_d[['status_cat','propertyType_cat','baths','fireplace','sqft','beds','stories','sity_state_cat','target']]\n",
    "sns.boxplot(data_d_preliminary['status_cat'])"
   ]
  },
  {
   "cell_type": "code",
   "execution_count": 70,
   "metadata": {
    "execution": {
     "iopub.execute_input": "2022-09-13T19:17:07.779518Z",
     "iopub.status.busy": "2022-09-13T19:17:07.779180Z",
     "iopub.status.idle": "2022-09-13T19:17:08.092042Z",
     "shell.execute_reply": "2022-09-13T19:17:08.090685Z",
     "shell.execute_reply.started": "2022-09-13T19:17:07.779486Z"
    }
   },
   "outputs": [
    {
     "data": {
      "text/plain": [
       "<AxesSubplot:xlabel='propertyType_cat'>"
      ]
     },
     "execution_count": 70,
     "metadata": {},
     "output_type": "execute_result"
    },
    {
     "data": {
      "image/png": "[encoded data removed]",
      "text/plain": [
       "<Figure size 460.8x316.8 with 1 Axes>"
      ]
     },
     "metadata": {
      "needs_background": "light"
     },
     "output_type": "display_data"
    }
   ],
   "source": [
    "sns.boxplot(data_d_preliminary['propertyType_cat'])"
   ]
  },
  {
   "cell_type": "code",
   "execution_count": 71,
   "metadata": {
    "execution": {
     "iopub.execute_input": "2022-09-13T19:17:08.093752Z",
     "iopub.status.busy": "2022-09-13T19:17:08.093415Z",
     "iopub.status.idle": "2022-09-13T19:17:08.391232Z",
     "shell.execute_reply": "2022-09-13T19:17:08.390379Z",
     "shell.execute_reply.started": "2022-09-13T19:17:08.093721Z"
    }
   },
   "outputs": [
    {
     "data": {
      "text/plain": [
       "<AxesSubplot:xlabel='propertyType_cat'>"
      ]
     },
     "execution_count": 71,
     "metadata": {},
     "output_type": "execute_result"
    },
    {
     "data": {
      "image/png": "[encoded data removed]",
      "text/plain": [
       "<Figure size 460.8x316.8 with 1 Axes>"
      ]
     },
     "metadata": {
      "needs_background": "light"
     },
     "output_type": "display_data"
    }
   ],
   "source": [
    "data_d_preliminary['propertyType_cat'] = data_d_preliminary[(data_d_preliminary['propertyType_cat'] > 1270)]['propertyType_cat']\n",
    "sns.boxplot(data_d_preliminary['propertyType_cat'])"
   ]
  },
  {
   "cell_type": "code",
   "execution_count": 72,
   "metadata": {
    "execution": {
     "iopub.execute_input": "2022-09-13T19:17:08.392662Z",
     "iopub.status.busy": "2022-09-13T19:17:08.392320Z",
     "iopub.status.idle": "2022-09-13T19:17:08.614469Z",
     "shell.execute_reply": "2022-09-13T19:17:08.613355Z",
     "shell.execute_reply.started": "2022-09-13T19:17:08.392631Z"
    }
   },
   "outputs": [
    {
     "data": {
      "text/plain": [
       "<AxesSubplot:xlabel='baths'>"
      ]
     },
     "execution_count": 72,
     "metadata": {},
     "output_type": "execute_result"
    },
    {
     "data": {
      "image/png": "[encoded data removed]",
      "text/plain": [
       "<Figure size 460.8x316.8 with 1 Axes>"
      ]
     },
     "metadata": {
      "needs_background": "light"
     },
     "output_type": "display_data"
    }
   ],
   "source": [
    "data_d_preliminary['baths'] = data_d_preliminary[(data_d_preliminary['baths'] < 10)]['baths']\n",
    "sns.boxplot(data_d_preliminary['baths'])"
   ]
  },
  {
   "cell_type": "code",
   "execution_count": 73,
   "metadata": {
    "execution": {
     "iopub.execute_input": "2022-09-13T19:17:08.616147Z",
     "iopub.status.busy": "2022-09-13T19:17:08.615800Z",
     "iopub.status.idle": "2022-09-13T19:17:08.975199Z",
     "shell.execute_reply": "2022-09-13T19:17:08.974125Z",
     "shell.execute_reply.started": "2022-09-13T19:17:08.616113Z"
    }
   },
   "outputs": [
    {
     "data": {
      "text/plain": [
       "<AxesSubplot:xlabel='fireplace'>"
      ]
     },
     "execution_count": 73,
     "metadata": {},
     "output_type": "execute_result"
    },
    {
     "data": {
      "image/png": "[encoded data removed]",
      "text/plain": [
       "<Figure size 460.8x316.8 with 1 Axes>"
      ]
     },
     "metadata": {
      "needs_background": "light"
     },
     "output_type": "display_data"
    }
   ],
   "source": [
    "sns.boxplot(data_d_preliminary['fireplace'])"
   ]
  },
  {
   "cell_type": "code",
   "execution_count": 74,
   "metadata": {
    "execution": {
     "iopub.execute_input": "2022-09-13T19:17:08.977045Z",
     "iopub.status.busy": "2022-09-13T19:17:08.976627Z",
     "iopub.status.idle": "2022-09-13T19:17:09.215587Z",
     "shell.execute_reply": "2022-09-13T19:17:09.214796Z",
     "shell.execute_reply.started": "2022-09-13T19:17:08.977012Z"
    }
   },
   "outputs": [
    {
     "data": {
      "text/plain": [
       "<AxesSubplot:xlabel='sqft'>"
      ]
     },
     "execution_count": 74,
     "metadata": {},
     "output_type": "execute_result"
    },
    {
     "data": {
      "image/png": "[encoded data removed]",
      "text/plain": [
       "<Figure size 460.8x316.8 with 1 Axes>"
      ]
     },
     "metadata": {
      "needs_background": "light"
     },
     "output_type": "display_data"
    }
   ],
   "source": [
    "sns.boxplot(data_d_preliminary['sqft'])"
   ]
  },
  {
   "cell_type": "code",
   "execution_count": 75,
   "metadata": {
    "execution": {
     "iopub.execute_input": "2022-09-13T19:17:09.217597Z",
     "iopub.status.busy": "2022-09-13T19:17:09.216788Z",
     "iopub.status.idle": "2022-09-13T19:17:09.397875Z",
     "shell.execute_reply": "2022-09-13T19:17:09.396604Z",
     "shell.execute_reply.started": "2022-09-13T19:17:09.217563Z"
    }
   },
   "outputs": [
    {
     "data": {
      "text/plain": [
       "<AxesSubplot:xlabel='beds'>"
      ]
     },
     "execution_count": 75,
     "metadata": {},
     "output_type": "execute_result"
    },
    {
     "data": {
      "image/png": "[encoded data removed]",
      "text/plain": [
       "<Figure size 460.8x316.8 with 1 Axes>"
      ]
     },
     "metadata": {
      "needs_background": "light"
     },
     "output_type": "display_data"
    }
   ],
   "source": [
    "sns.boxplot(data_d_preliminary['beds'])"
   ]
  },
  {
   "cell_type": "code",
   "execution_count": 76,
   "metadata": {
    "execution": {
     "iopub.execute_input": "2022-09-13T19:17:09.399827Z",
     "iopub.status.busy": "2022-09-13T19:17:09.399417Z",
     "iopub.status.idle": "2022-09-13T19:17:09.621599Z",
     "shell.execute_reply": "2022-09-13T19:17:09.620389Z",
     "shell.execute_reply.started": "2022-09-13T19:17:09.399792Z"
    }
   },
   "outputs": [
    {
     "data": {
      "text/plain": [
       "<AxesSubplot:xlabel='beds'>"
      ]
     },
     "execution_count": 76,
     "metadata": {},
     "output_type": "execute_result"
    },
    {
     "data": {
      "image/png": "[encoded data removed]",
      "text/plain": [
       "<Figure size 460.8x316.8 with 1 Axes>"
      ]
     },
     "metadata": {
      "needs_background": "light"
     },
     "output_type": "display_data"
    }
   ],
   "source": [
    "data_d_preliminary['beds'] = data_d_preliminary[(data_d_preliminary['beds'] < 7)]['beds']\n",
    "sns.boxplot(data_d_preliminary['beds'])"
   ]
  },
  {
   "cell_type": "code",
   "execution_count": 77,
   "metadata": {
    "execution": {
     "iopub.execute_input": "2022-09-13T19:17:09.623616Z",
     "iopub.status.busy": "2022-09-13T19:17:09.623097Z",
     "iopub.status.idle": "2022-09-13T19:17:09.813158Z",
     "shell.execute_reply": "2022-09-13T19:17:09.812322Z",
     "shell.execute_reply.started": "2022-09-13T19:17:09.623581Z"
    }
   },
   "outputs": [
    {
     "data": {
      "text/plain": [
       "<AxesSubplot:xlabel='stories'>"
      ]
     },
     "execution_count": 77,
     "metadata": {},
     "output_type": "execute_result"
    },
    {
     "data": {
      "image/png": "[encoded data removed]",
      "text/plain": [
       "<Figure size 460.8x316.8 with 1 Axes>"
      ]
     },
     "metadata": {
      "needs_background": "light"
     },
     "output_type": "display_data"
    }
   ],
   "source": [
    "sns.boxplot(data_d_preliminary['stories'])"
   ]
  },
  {
   "cell_type": "code",
   "execution_count": 78,
   "metadata": {
    "execution": {
     "iopub.execute_input": "2022-09-13T19:17:09.814906Z",
     "iopub.status.busy": "2022-09-13T19:17:09.814416Z",
     "iopub.status.idle": "2022-09-13T19:17:10.053219Z",
     "shell.execute_reply": "2022-09-13T19:17:10.051892Z",
     "shell.execute_reply.started": "2022-09-13T19:17:09.814874Z"
    }
   },
   "outputs": [
    {
     "data": {
      "text/plain": [
       "<AxesSubplot:xlabel='stories'>"
      ]
     },
     "execution_count": 78,
     "metadata": {},
     "output_type": "execute_result"
    },
    {
     "data": {
      "image/png": "[encoded data removed]",
      "text/plain": [
       "<Figure size 460.8x316.8 with 1 Axes>"
      ]
     },
     "metadata": {
      "needs_background": "light"
     },
     "output_type": "display_data"
    }
   ],
   "source": [
    "data_d_preliminary['stories'] = data_d_preliminary[(data_d_preliminary['stories'] < 5)]['stories']\n",
    "sns.boxplot(data_d_preliminary['stories'])"
   ]
  },
  {
   "cell_type": "code",
   "execution_count": 79,
   "metadata": {
    "execution": {
     "iopub.execute_input": "2022-09-13T19:17:10.054933Z",
     "iopub.status.busy": "2022-09-13T19:17:10.054562Z",
     "iopub.status.idle": "2022-09-13T19:17:10.236001Z",
     "shell.execute_reply": "2022-09-13T19:17:10.234643Z",
     "shell.execute_reply.started": "2022-09-13T19:17:10.054898Z"
    }
   },
   "outputs": [
    {
     "data": {
      "text/plain": [
       "<AxesSubplot:xlabel='sity_state_cat'>"
      ]
     },
     "execution_count": 79,
     "metadata": {},
     "output_type": "execute_result"
    },
    {
     "data": {
      "image/png": "[encoded data removed]",
      "text/plain": [
       "<Figure size 460.8x316.8 with 1 Axes>"
      ]
     },
     "metadata": {
      "needs_background": "light"
     },
     "output_type": "display_data"
    }
   ],
   "source": [
    "sns.boxplot(data_d_preliminary['sity_state_cat'])"
   ]
  },
  {
   "cell_type": "code",
   "execution_count": 80,
   "metadata": {
    "execution": {
     "iopub.execute_input": "2022-09-13T19:17:10.238643Z",
     "iopub.status.busy": "2022-09-13T19:17:10.237786Z",
     "iopub.status.idle": "2022-09-13T19:17:10.733260Z",
     "shell.execute_reply": "2022-09-13T19:17:10.732043Z",
     "shell.execute_reply.started": "2022-09-13T19:17:10.238591Z"
    }
   },
   "outputs": [
    {
     "data": {
      "text/plain": [
       "<AxesSubplot:xlabel='sity_state_cat'>"
      ]
     },
     "execution_count": 80,
     "metadata": {},
     "output_type": "execute_result"
    },
    {
     "data": {
      "image/png": "[encoded data removed]",
      "text/plain": [
       "<Figure size 460.8x316.8 with 1 Axes>"
      ]
     },
     "metadata": {
      "needs_background": "light"
     },
     "output_type": "display_data"
    }
   ],
   "source": [
    "\n",
    "data_d_preliminary['sity_state_cat'] = data_d_preliminary[(data_d_preliminary['sity_state_cat'] < 500 ) | (data_d_preliminary['sity_state_cat'] > 1700)]['sity_state_cat']\n",
    "sns.boxplot(data_d_preliminary['sity_state_cat'])"
   ]
  },
  {
   "cell_type": "markdown",
   "metadata": {},
   "source": [
    "377185"
   ]
  },
  {
   "cell_type": "code",
   "execution_count": 81,
   "metadata": {
    "execution": {
     "iopub.execute_input": "2022-09-13T19:17:10.735790Z",
     "iopub.status.busy": "2022-09-13T19:17:10.735080Z",
     "iopub.status.idle": "2022-09-13T19:17:10.752720Z",
     "shell.execute_reply": "2022-09-13T19:17:10.751512Z",
     "shell.execute_reply.started": "2022-09-13T19:17:10.735742Z"
    }
   },
   "outputs": [
    {
     "data": {
      "text/plain": [
       "status_cat               0\n",
       "propertyType_cat    145550\n",
       "baths                 1258\n",
       "fireplace                0\n",
       "sqft                     0\n",
       "beds                  3237\n",
       "stories               7865\n",
       "sity_state_cat      221349\n",
       "target                3726\n",
       "dtype: int64"
      ]
     },
     "execution_count": 81,
     "metadata": {},
     "output_type": "execute_result"
    }
   ],
   "source": [
    "data_d_preliminary.isnull().sum()"
   ]
  },
  {
   "cell_type": "code",
   "execution_count": 82,
   "metadata": {
    "execution": {
     "iopub.execute_input": "2022-09-13T19:17:10.754492Z",
     "iopub.status.busy": "2022-09-13T19:17:10.754148Z",
     "iopub.status.idle": "2022-09-13T19:17:10.779572Z",
     "shell.execute_reply": "2022-09-13T19:17:10.778356Z",
     "shell.execute_reply.started": "2022-09-13T19:17:10.754460Z"
    }
   },
   "outputs": [],
   "source": [
    "values = {'propertyType_cat':1275,'sity_state_cat':0}\n",
    "data_d_preliminary = data_d_preliminary.fillna(value=values)"
   ]
  },
  {
   "cell_type": "code",
   "execution_count": 83,
   "metadata": {
    "execution": {
     "iopub.execute_input": "2022-09-13T19:17:10.791231Z",
     "iopub.status.busy": "2022-09-13T19:17:10.790497Z",
     "iopub.status.idle": "2022-09-13T19:17:10.823911Z",
     "shell.execute_reply": "2022-09-13T19:17:10.822760Z",
     "shell.execute_reply.started": "2022-09-13T19:17:10.791189Z"
    }
   },
   "outputs": [],
   "source": [
    "data_d_preliminary = data_d_preliminary.dropna()"
   ]
  },
  {
   "cell_type": "code",
   "execution_count": 84,
   "metadata": {
    "execution": {
     "iopub.execute_input": "2022-09-13T19:17:10.825596Z",
     "iopub.status.busy": "2022-09-13T19:17:10.825250Z",
     "iopub.status.idle": "2022-09-13T19:17:10.841895Z",
     "shell.execute_reply": "2022-09-13T19:17:10.840616Z",
     "shell.execute_reply.started": "2022-09-13T19:17:10.825563Z"
    }
   },
   "outputs": [
    {
     "data": {
      "text/plain": [
       "status_cat          0\n",
       "propertyType_cat    0\n",
       "baths               0\n",
       "fireplace           0\n",
       "sqft                0\n",
       "beds                0\n",
       "stories             0\n",
       "sity_state_cat      0\n",
       "target              0\n",
       "dtype: int64"
      ]
     },
     "execution_count": 84,
     "metadata": {},
     "output_type": "execute_result"
    }
   ],
   "source": [
    "data_d_preliminary.isnull().sum()"
   ]
  },
  {
   "cell_type": "code",
   "execution_count": 85,
   "metadata": {
    "execution": {
     "iopub.execute_input": "2022-09-13T19:17:10.844534Z",
     "iopub.status.busy": "2022-09-13T19:17:10.843884Z",
     "iopub.status.idle": "2022-09-13T19:17:11.591451Z",
     "shell.execute_reply": "2022-09-13T19:17:11.590067Z",
     "shell.execute_reply.started": "2022-09-13T19:17:10.844354Z"
    }
   },
   "outputs": [
    {
     "data": {
      "text/plain": [
       "(9.5, -0.5)"
      ]
     },
     "execution_count": 85,
     "metadata": {},
     "output_type": "execute_result"
    },
    {
     "data": {
      "image/png": "[encoded data removed]",
      "text/plain": [
       "<Figure size 1296x720 with 2 Axes>"
      ]
     },
     "metadata": {
      "needs_background": "light"
     },
     "output_type": "display_data"
    }
   ],
   "source": [
    "plt.figure(figsize=(18, 10))\n",
    "ax = sns.heatmap(data_d_preliminary.corr().abs(), vmin=0, vmax=1, annot = True)\n",
    "i, k = ax.get_ylim()\n",
    "ax.set_ylim(i+0.5, k-0.5)"
   ]
  },
  {
   "cell_type": "markdown",
   "metadata": {},
   "source": [
    "> # Грубая модель"
   ]
  },
  {
   "cell_type": "code",
   "execution_count": 86,
   "metadata": {
    "execution": {
     "iopub.execute_input": "2022-09-13T19:17:11.593464Z",
     "iopub.status.busy": "2022-09-13T19:17:11.593091Z",
     "iopub.status.idle": "2022-09-13T19:17:11.612577Z",
     "shell.execute_reply": "2022-09-13T19:17:11.611446Z",
     "shell.execute_reply.started": "2022-09-13T19:17:11.593429Z"
    }
   },
   "outputs": [],
   "source": [
    "X = data_d_preliminary[['status_cat','propertyType_cat','baths','fireplace','sqft','beds','stories','sity_state_cat']]\n",
    "y = data_d_preliminary[['target']]\n",
    "\n",
    "X1 = data_d_preliminary[['sity_state_cat','baths','beds']]"
   ]
  },
  {
   "cell_type": "code",
   "execution_count": 87,
   "metadata": {
    "execution": {
     "iopub.execute_input": "2022-09-13T19:17:11.614644Z",
     "iopub.status.busy": "2022-09-13T19:17:11.614102Z",
     "iopub.status.idle": "2022-09-13T19:17:11.661375Z",
     "shell.execute_reply": "2022-09-13T19:17:11.660373Z",
     "shell.execute_reply.started": "2022-09-13T19:17:11.614596Z"
    }
   },
   "outputs": [],
   "source": [
    "X_train, X_test, y_train, y_test = train_test_split(X1, y, \n",
    "                                                    train_size=0.67, \n",
    "                                                    random_state=RANDOM_SEED)"
   ]
  },
  {
   "cell_type": "markdown",
   "metadata": {},
   "source": [
    "def mape(y_true, y_pred):\n",
    "    return np.mean(np.abs((y_pred-y_true)/y_true))"
   ]
  },
  {
   "cell_type": "code",
   "execution_count": 89,
   "metadata": {
    "execution": {
     "iopub.execute_input": "2022-09-13T19:18:02.008332Z",
     "iopub.status.busy": "2022-09-13T19:18:02.007862Z",
     "iopub.status.idle": "2022-09-13T19:18:19.131836Z",
     "shell.execute_reply": "2022-09-13T19:18:19.130591Z",
     "shell.execute_reply.started": "2022-09-13T19:18:02.008292Z"
    }
   },
   "outputs": [
    {
     "name": "stdout",
     "output_type": "stream",
     "text": [
      "inf\n"
     ]
    }
   ],
   "source": [
    "extra_tree = ExtraTreesRegressor(n_estimators = 400, \n",
    "                                 n_jobs=-1, random_state=RANDOM_SEED)\n",
    "extra_tree.fit(X_train, y_train)\n",
    "predict_extra_tree = extra_tree.predict(X_test)\n",
    "predict_extra_tree\n",
    "\n",
    "np.array(y_test.index.values)\n",
    "\n",
    "# оцениваем точность\n",
    "print(mape(np.array(y_test.index.values), predict_extra_tree))\n",
    "#print((mape_log(y_test, predict_extra_tree)))\n",
    "#pprint(f\"MAPE: {(mape_log(y_test, predict_extra_tree))*100:0.2f}%\")\n"
   ]
  },
  {
   "cell_type": "code",
   "execution_count": 90,
   "metadata": {
    "execution": {
     "iopub.execute_input": "2022-09-13T19:18:28.223650Z",
     "iopub.status.busy": "2022-09-13T19:18:28.223231Z",
     "iopub.status.idle": "2022-09-13T19:19:01.548103Z",
     "shell.execute_reply": "2022-09-13T19:19:01.547013Z",
     "shell.execute_reply.started": "2022-09-13T19:18:28.223615Z"
    }
   },
   "outputs": [
    {
     "data": {
      "application/vnd.jupyter.widget-view+json": {
       "model_id": "282174c48c6f4d38bcf18f1ae748d95a",
       "version_major": 2,
       "version_minor": 0
      },
      "text/plain": [
       "MetricVisualizer(layout=Layout(align_self='stretch', height='500px'))"
      ]
     },
     "metadata": {},
     "output_type": "display_data"
    },
    {
     "name": "stdout",
     "output_type": "stream",
     "text": [
      "0:\tlearn: 1.0342014\ttest: 1.0415707\tbest: 1.0415707 (0)\ttotal: 99.8ms\tremaining: 1m 39s\n",
      "100:\tlearn: 0.9348053\ttest: 0.9426456\tbest: 0.9426456 (100)\ttotal: 3.33s\tremaining: 29.7s\n",
      "200:\tlearn: 0.9309676\ttest: 0.9407358\tbest: 0.9407050 (199)\ttotal: 6.56s\tremaining: 26.1s\n",
      "300:\tlearn: 0.9295649\ttest: 0.9406113\tbest: 0.9405778 (294)\ttotal: 9.77s\tremaining: 22.7s\n",
      "400:\tlearn: 0.9288569\ttest: 0.9406974\tbest: 0.9405778 (294)\ttotal: 13s\tremaining: 19.5s\n",
      "500:\tlearn: 0.9284194\ttest: 0.9409040\tbest: 0.9405778 (294)\ttotal: 16.3s\tremaining: 16.2s\n",
      "600:\tlearn: 0.9281723\ttest: 0.9410516\tbest: 0.9405778 (294)\ttotal: 19.5s\tremaining: 12.9s\n",
      "700:\tlearn: 0.9279860\ttest: 0.9411331\tbest: 0.9405778 (294)\ttotal: 22.8s\tremaining: 9.73s\n",
      "800:\tlearn: 0.9278696\ttest: 0.9412647\tbest: 0.9405778 (294)\ttotal: 26s\tremaining: 6.47s\n",
      "900:\tlearn: 0.9277741\ttest: 0.9413726\tbest: 0.9405778 (294)\ttotal: 29.6s\tremaining: 3.26s\n",
      "999:\tlearn: 0.9277025\ttest: 0.9414531\tbest: 0.9405778 (294)\ttotal: 32.9s\tremaining: 0us\n",
      "\n",
      "bestTest = 0.9405777531\n",
      "bestIteration = 294\n",
      "\n",
      "Shrink model to first 295 iterations.\n"
     ]
    },
    {
     "data": {
      "text/plain": [
       "<catboost.core.CatBoostRegressor at 0x7f163cf35a90>"
      ]
     },
     "execution_count": 90,
     "metadata": {},
     "output_type": "execute_result"
    }
   ],
   "source": [
    "catboost = CatBoostRegressor(iterations = 1000,\n",
    "                          learning_rate = 0.5,\n",
    "                          random_seed = RANDOM_SEED,\n",
    "                          eval_metric='RMSE',\n",
    "                          depth = 10,\n",
    "                          l2_leaf_reg = 1)\n",
    "catboost.fit(X_train, y_train,\n",
    "         \n",
    "         eval_set=(X_test, y_test),\n",
    "         verbose_eval=100,\n",
    "         use_best_model=True,\n",
    "         plot=True\n",
    "         )"
   ]
  },
  {
   "cell_type": "code",
   "execution_count": 91,
   "metadata": {
    "execution": {
     "iopub.execute_input": "2022-09-13T19:19:04.915593Z",
     "iopub.status.busy": "2022-09-13T19:19:04.915177Z",
     "iopub.status.idle": "2022-09-13T19:19:05.088976Z",
     "shell.execute_reply": "2022-09-13T19:19:05.087048Z",
     "shell.execute_reply.started": "2022-09-13T19:19:04.915557Z"
    }
   },
   "outputs": [
    {
     "ename": "ValueError",
     "evalue": "Unable to coerce to Series, length must be 1: given 119346",
     "output_type": "error",
     "traceback": [
      "\u001b[0;31m---------------------------------------------------------------------------\u001b[0m",
      "\u001b[0;31mValueError\u001b[0m                                Traceback (most recent call last)",
      "\u001b[0;32m/tmp/ipykernel_17/2845535849.py\u001b[0m in \u001b[0;36m<module>\u001b[0;34m\u001b[0m\n\u001b[1;32m      1\u001b[0m \u001b[0mpredict_catboost\u001b[0m \u001b[0;34m=\u001b[0m \u001b[0mcatboost\u001b[0m\u001b[0;34m.\u001b[0m\u001b[0mpredict\u001b[0m\u001b[0;34m(\u001b[0m\u001b[0mX_test\u001b[0m\u001b[0;34m)\u001b[0m\u001b[0;34m\u001b[0m\u001b[0;34m\u001b[0m\u001b[0m\n\u001b[1;32m      2\u001b[0m \u001b[0;34m\u001b[0m\u001b[0m\n\u001b[0;32m----> 3\u001b[0;31m \u001b[0mprint\u001b[0m\u001b[0;34m(\u001b[0m\u001b[0;34mf\"MAPE: {(mape_log(y_test, predict_catboost))*100:0.2f}%\"\u001b[0m\u001b[0;34m)\u001b[0m\u001b[0;34m\u001b[0m\u001b[0;34m\u001b[0m\u001b[0m\n\u001b[0m",
      "\u001b[0;32m/tmp/ipykernel_17/1056742179.py\u001b[0m in \u001b[0;36mmape_log\u001b[0;34m(y_true, y_pred)\u001b[0m\n\u001b[1;32m      1\u001b[0m \u001b[0;31m# Функция расчета ошибки для логарифмированной целевой переменнной\u001b[0m\u001b[0;34m\u001b[0m\u001b[0;34m\u001b[0m\u001b[0;34m\u001b[0m\u001b[0m\n\u001b[1;32m      2\u001b[0m \u001b[0;32mdef\u001b[0m \u001b[0mmape_log\u001b[0m\u001b[0;34m(\u001b[0m\u001b[0my_true\u001b[0m\u001b[0;34m,\u001b[0m \u001b[0my_pred\u001b[0m\u001b[0;34m)\u001b[0m\u001b[0;34m:\u001b[0m\u001b[0;34m\u001b[0m\u001b[0;34m\u001b[0m\u001b[0m\n\u001b[0;32m----> 3\u001b[0;31m     \u001b[0;32mreturn\u001b[0m \u001b[0mnp\u001b[0m\u001b[0;34m.\u001b[0m\u001b[0mmean\u001b[0m\u001b[0;34m(\u001b[0m\u001b[0mnp\u001b[0m\u001b[0;34m.\u001b[0m\u001b[0mabs\u001b[0m\u001b[0;34m(\u001b[0m\u001b[0;34m(\u001b[0m\u001b[0mnp\u001b[0m\u001b[0;34m.\u001b[0m\u001b[0mexp\u001b[0m\u001b[0;34m(\u001b[0m\u001b[0my_pred\u001b[0m\u001b[0;34m)\u001b[0m\u001b[0;34m-\u001b[0m\u001b[0mnp\u001b[0m\u001b[0;34m.\u001b[0m\u001b[0mexp\u001b[0m\u001b[0;34m(\u001b[0m\u001b[0my_true\u001b[0m\u001b[0;34m)\u001b[0m\u001b[0;34m)\u001b[0m\u001b[0;34m/\u001b[0m\u001b[0mnp\u001b[0m\u001b[0;34m.\u001b[0m\u001b[0mexp\u001b[0m\u001b[0;34m(\u001b[0m\u001b[0my_true\u001b[0m\u001b[0;34m)\u001b[0m\u001b[0;34m)\u001b[0m\u001b[0;34m)\u001b[0m\u001b[0;34m\u001b[0m\u001b[0;34m\u001b[0m\u001b[0m\n\u001b[0m",
      "\u001b[0;32m/opt/conda/lib/python3.7/site-packages/pandas/core/generic.py\u001b[0m in \u001b[0;36m__array_ufunc__\u001b[0;34m(self, ufunc, method, *inputs, **kwargs)\u001b[0m\n\u001b[1;32m   2030\u001b[0m         \u001b[0mself\u001b[0m\u001b[0;34m,\u001b[0m \u001b[0mufunc\u001b[0m\u001b[0;34m:\u001b[0m \u001b[0mnp\u001b[0m\u001b[0;34m.\u001b[0m\u001b[0mufunc\u001b[0m\u001b[0;34m,\u001b[0m \u001b[0mmethod\u001b[0m\u001b[0;34m:\u001b[0m \u001b[0mstr\u001b[0m\u001b[0;34m,\u001b[0m \u001b[0;34m*\u001b[0m\u001b[0minputs\u001b[0m\u001b[0;34m:\u001b[0m \u001b[0mAny\u001b[0m\u001b[0;34m,\u001b[0m \u001b[0;34m**\u001b[0m\u001b[0mkwargs\u001b[0m\u001b[0;34m:\u001b[0m \u001b[0mAny\u001b[0m\u001b[0;34m\u001b[0m\u001b[0;34m\u001b[0m\u001b[0m\n\u001b[1;32m   2031\u001b[0m     ):\n\u001b[0;32m-> 2032\u001b[0;31m         \u001b[0;32mreturn\u001b[0m \u001b[0marraylike\u001b[0m\u001b[0;34m.\u001b[0m\u001b[0marray_ufunc\u001b[0m\u001b[0;34m(\u001b[0m\u001b[0mself\u001b[0m\u001b[0;34m,\u001b[0m \u001b[0mufunc\u001b[0m\u001b[0;34m,\u001b[0m \u001b[0mmethod\u001b[0m\u001b[0;34m,\u001b[0m \u001b[0;34m*\u001b[0m\u001b[0minputs\u001b[0m\u001b[0;34m,\u001b[0m \u001b[0;34m**\u001b[0m\u001b[0mkwargs\u001b[0m\u001b[0;34m)\u001b[0m\u001b[0;34m\u001b[0m\u001b[0;34m\u001b[0m\u001b[0m\n\u001b[0m\u001b[1;32m   2033\u001b[0m \u001b[0;34m\u001b[0m\u001b[0m\n\u001b[1;32m   2034\u001b[0m     \u001b[0;31m# ideally we would define this to avoid the getattr checks, but\u001b[0m\u001b[0;34m\u001b[0m\u001b[0;34m\u001b[0m\u001b[0;34m\u001b[0m\u001b[0m\n",
      "\u001b[0;32m/opt/conda/lib/python3.7/site-packages/pandas/core/arraylike.py\u001b[0m in \u001b[0;36marray_ufunc\u001b[0;34m(self, ufunc, method, *inputs, **kwargs)\u001b[0m\n\u001b[1;32m    251\u001b[0m \u001b[0;34m\u001b[0m\u001b[0m\n\u001b[1;32m    252\u001b[0m     \u001b[0;31m# for binary ops, use our custom dunder methods\u001b[0m\u001b[0;34m\u001b[0m\u001b[0;34m\u001b[0m\u001b[0;34m\u001b[0m\u001b[0m\n\u001b[0;32m--> 253\u001b[0;31m     \u001b[0mresult\u001b[0m \u001b[0;34m=\u001b[0m \u001b[0mmaybe_dispatch_ufunc_to_dunder_op\u001b[0m\u001b[0;34m(\u001b[0m\u001b[0mself\u001b[0m\u001b[0;34m,\u001b[0m \u001b[0mufunc\u001b[0m\u001b[0;34m,\u001b[0m \u001b[0mmethod\u001b[0m\u001b[0;34m,\u001b[0m \u001b[0;34m*\u001b[0m\u001b[0minputs\u001b[0m\u001b[0;34m,\u001b[0m \u001b[0;34m**\u001b[0m\u001b[0mkwargs\u001b[0m\u001b[0;34m)\u001b[0m\u001b[0;34m\u001b[0m\u001b[0;34m\u001b[0m\u001b[0m\n\u001b[0m\u001b[1;32m    254\u001b[0m     \u001b[0;32mif\u001b[0m \u001b[0mresult\u001b[0m \u001b[0;32mis\u001b[0m \u001b[0;32mnot\u001b[0m \u001b[0mNotImplemented\u001b[0m\u001b[0;34m:\u001b[0m\u001b[0;34m\u001b[0m\u001b[0;34m\u001b[0m\u001b[0m\n\u001b[1;32m    255\u001b[0m         \u001b[0;32mreturn\u001b[0m \u001b[0mresult\u001b[0m\u001b[0;34m\u001b[0m\u001b[0;34m\u001b[0m\u001b[0m\n",
      "\u001b[0;32m/opt/conda/lib/python3.7/site-packages/pandas/_libs/ops_dispatch.pyx\u001b[0m in \u001b[0;36mpandas._libs.ops_dispatch.maybe_dispatch_ufunc_to_dunder_op\u001b[0;34m()\u001b[0m\n",
      "\u001b[0;32m/opt/conda/lib/python3.7/site-packages/pandas/core/ops/common.py\u001b[0m in \u001b[0;36mnew_method\u001b[0;34m(self, other)\u001b[0m\n\u001b[1;32m     67\u001b[0m         \u001b[0mother\u001b[0m \u001b[0;34m=\u001b[0m \u001b[0mitem_from_zerodim\u001b[0m\u001b[0;34m(\u001b[0m\u001b[0mother\u001b[0m\u001b[0;34m)\u001b[0m\u001b[0;34m\u001b[0m\u001b[0;34m\u001b[0m\u001b[0m\n\u001b[1;32m     68\u001b[0m \u001b[0;34m\u001b[0m\u001b[0m\n\u001b[0;32m---> 69\u001b[0;31m         \u001b[0;32mreturn\u001b[0m \u001b[0mmethod\u001b[0m\u001b[0;34m(\u001b[0m\u001b[0mself\u001b[0m\u001b[0;34m,\u001b[0m \u001b[0mother\u001b[0m\u001b[0;34m)\u001b[0m\u001b[0;34m\u001b[0m\u001b[0;34m\u001b[0m\u001b[0m\n\u001b[0m\u001b[1;32m     70\u001b[0m \u001b[0;34m\u001b[0m\u001b[0m\n\u001b[1;32m     71\u001b[0m     \u001b[0;32mreturn\u001b[0m \u001b[0mnew_method\u001b[0m\u001b[0;34m\u001b[0m\u001b[0;34m\u001b[0m\u001b[0m\n",
      "\u001b[0;32m/opt/conda/lib/python3.7/site-packages/pandas/core/arraylike.py\u001b[0m in \u001b[0;36m__rsub__\u001b[0;34m(self, other)\u001b[0m\n\u001b[1;32m    102\u001b[0m     \u001b[0;34m@\u001b[0m\u001b[0munpack_zerodim_and_defer\u001b[0m\u001b[0;34m(\u001b[0m\u001b[0;34m\"__rsub__\"\u001b[0m\u001b[0;34m)\u001b[0m\u001b[0;34m\u001b[0m\u001b[0;34m\u001b[0m\u001b[0m\n\u001b[1;32m    103\u001b[0m     \u001b[0;32mdef\u001b[0m \u001b[0m__rsub__\u001b[0m\u001b[0;34m(\u001b[0m\u001b[0mself\u001b[0m\u001b[0;34m,\u001b[0m \u001b[0mother\u001b[0m\u001b[0;34m)\u001b[0m\u001b[0;34m:\u001b[0m\u001b[0;34m\u001b[0m\u001b[0;34m\u001b[0m\u001b[0m\n\u001b[0;32m--> 104\u001b[0;31m         \u001b[0;32mreturn\u001b[0m \u001b[0mself\u001b[0m\u001b[0;34m.\u001b[0m\u001b[0m_arith_method\u001b[0m\u001b[0;34m(\u001b[0m\u001b[0mother\u001b[0m\u001b[0;34m,\u001b[0m \u001b[0mroperator\u001b[0m\u001b[0;34m.\u001b[0m\u001b[0mrsub\u001b[0m\u001b[0;34m)\u001b[0m\u001b[0;34m\u001b[0m\u001b[0;34m\u001b[0m\u001b[0m\n\u001b[0m\u001b[1;32m    105\u001b[0m \u001b[0;34m\u001b[0m\u001b[0m\n\u001b[1;32m    106\u001b[0m     \u001b[0;34m@\u001b[0m\u001b[0munpack_zerodim_and_defer\u001b[0m\u001b[0;34m(\u001b[0m\u001b[0;34m\"__mul__\"\u001b[0m\u001b[0;34m)\u001b[0m\u001b[0;34m\u001b[0m\u001b[0;34m\u001b[0m\u001b[0m\n",
      "\u001b[0;32m/opt/conda/lib/python3.7/site-packages/pandas/core/frame.py\u001b[0m in \u001b[0;36m_arith_method\u001b[0;34m(self, other, op)\u001b[0m\n\u001b[1;32m   6862\u001b[0m         \u001b[0mother\u001b[0m \u001b[0;34m=\u001b[0m \u001b[0mops\u001b[0m\u001b[0;34m.\u001b[0m\u001b[0mmaybe_prepare_scalar_for_op\u001b[0m\u001b[0;34m(\u001b[0m\u001b[0mother\u001b[0m\u001b[0;34m,\u001b[0m \u001b[0;34m(\u001b[0m\u001b[0mself\u001b[0m\u001b[0;34m.\u001b[0m\u001b[0mshape\u001b[0m\u001b[0;34m[\u001b[0m\u001b[0maxis\u001b[0m\u001b[0;34m]\u001b[0m\u001b[0;34m,\u001b[0m\u001b[0;34m)\u001b[0m\u001b[0;34m)\u001b[0m\u001b[0;34m\u001b[0m\u001b[0;34m\u001b[0m\u001b[0m\n\u001b[1;32m   6863\u001b[0m \u001b[0;34m\u001b[0m\u001b[0m\n\u001b[0;32m-> 6864\u001b[0;31m         \u001b[0mself\u001b[0m\u001b[0;34m,\u001b[0m \u001b[0mother\u001b[0m \u001b[0;34m=\u001b[0m \u001b[0mops\u001b[0m\u001b[0;34m.\u001b[0m\u001b[0malign_method_FRAME\u001b[0m\u001b[0;34m(\u001b[0m\u001b[0mself\u001b[0m\u001b[0;34m,\u001b[0m \u001b[0mother\u001b[0m\u001b[0;34m,\u001b[0m \u001b[0maxis\u001b[0m\u001b[0;34m,\u001b[0m \u001b[0mflex\u001b[0m\u001b[0;34m=\u001b[0m\u001b[0;32mTrue\u001b[0m\u001b[0;34m,\u001b[0m \u001b[0mlevel\u001b[0m\u001b[0;34m=\u001b[0m\u001b[0;32mNone\u001b[0m\u001b[0;34m)\u001b[0m\u001b[0;34m\u001b[0m\u001b[0;34m\u001b[0m\u001b[0m\n\u001b[0m\u001b[1;32m   6865\u001b[0m \u001b[0;34m\u001b[0m\u001b[0m\n\u001b[1;32m   6866\u001b[0m         \u001b[0mnew_data\u001b[0m \u001b[0;34m=\u001b[0m \u001b[0mself\u001b[0m\u001b[0;34m.\u001b[0m\u001b[0m_dispatch_frame_op\u001b[0m\u001b[0;34m(\u001b[0m\u001b[0mother\u001b[0m\u001b[0;34m,\u001b[0m \u001b[0mop\u001b[0m\u001b[0;34m,\u001b[0m \u001b[0maxis\u001b[0m\u001b[0;34m=\u001b[0m\u001b[0maxis\u001b[0m\u001b[0;34m)\u001b[0m\u001b[0;34m\u001b[0m\u001b[0;34m\u001b[0m\u001b[0m\n",
      "\u001b[0;32m/opt/conda/lib/python3.7/site-packages/pandas/core/ops/__init__.py\u001b[0m in \u001b[0;36malign_method_FRAME\u001b[0;34m(left, right, axis, flex, level)\u001b[0m\n\u001b[1;32m    245\u001b[0m \u001b[0;34m\u001b[0m\u001b[0m\n\u001b[1;32m    246\u001b[0m         \u001b[0;32mif\u001b[0m \u001b[0mright\u001b[0m\u001b[0;34m.\u001b[0m\u001b[0mndim\u001b[0m \u001b[0;34m==\u001b[0m \u001b[0;36m1\u001b[0m\u001b[0;34m:\u001b[0m\u001b[0;34m\u001b[0m\u001b[0;34m\u001b[0m\u001b[0m\n\u001b[0;32m--> 247\u001b[0;31m             \u001b[0mright\u001b[0m \u001b[0;34m=\u001b[0m \u001b[0mto_series\u001b[0m\u001b[0;34m(\u001b[0m\u001b[0mright\u001b[0m\u001b[0;34m)\u001b[0m\u001b[0;34m\u001b[0m\u001b[0;34m\u001b[0m\u001b[0m\n\u001b[0m\u001b[1;32m    248\u001b[0m \u001b[0;34m\u001b[0m\u001b[0m\n\u001b[1;32m    249\u001b[0m         \u001b[0;32melif\u001b[0m \u001b[0mright\u001b[0m\u001b[0;34m.\u001b[0m\u001b[0mndim\u001b[0m \u001b[0;34m==\u001b[0m \u001b[0;36m2\u001b[0m\u001b[0;34m:\u001b[0m\u001b[0;34m\u001b[0m\u001b[0;34m\u001b[0m\u001b[0m\n",
      "\u001b[0;32m/opt/conda/lib/python3.7/site-packages/pandas/core/ops/__init__.py\u001b[0m in \u001b[0;36mto_series\u001b[0;34m(right)\u001b[0m\n\u001b[1;32m    237\u001b[0m             \u001b[0;32mif\u001b[0m \u001b[0mlen\u001b[0m\u001b[0;34m(\u001b[0m\u001b[0mleft\u001b[0m\u001b[0;34m.\u001b[0m\u001b[0mcolumns\u001b[0m\u001b[0;34m)\u001b[0m \u001b[0;34m!=\u001b[0m \u001b[0mlen\u001b[0m\u001b[0;34m(\u001b[0m\u001b[0mright\u001b[0m\u001b[0;34m)\u001b[0m\u001b[0;34m:\u001b[0m\u001b[0;34m\u001b[0m\u001b[0;34m\u001b[0m\u001b[0m\n\u001b[1;32m    238\u001b[0m                 raise ValueError(\n\u001b[0;32m--> 239\u001b[0;31m                     \u001b[0mmsg\u001b[0m\u001b[0;34m.\u001b[0m\u001b[0mformat\u001b[0m\u001b[0;34m(\u001b[0m\u001b[0mreq_len\u001b[0m\u001b[0;34m=\u001b[0m\u001b[0mlen\u001b[0m\u001b[0;34m(\u001b[0m\u001b[0mleft\u001b[0m\u001b[0;34m.\u001b[0m\u001b[0mcolumns\u001b[0m\u001b[0;34m)\u001b[0m\u001b[0;34m,\u001b[0m \u001b[0mgiven_len\u001b[0m\u001b[0;34m=\u001b[0m\u001b[0mlen\u001b[0m\u001b[0;34m(\u001b[0m\u001b[0mright\u001b[0m\u001b[0;34m)\u001b[0m\u001b[0;34m)\u001b[0m\u001b[0;34m\u001b[0m\u001b[0;34m\u001b[0m\u001b[0m\n\u001b[0m\u001b[1;32m    240\u001b[0m                 )\n\u001b[1;32m    241\u001b[0m             \u001b[0mright\u001b[0m \u001b[0;34m=\u001b[0m \u001b[0mleft\u001b[0m\u001b[0;34m.\u001b[0m\u001b[0m_constructor_sliced\u001b[0m\u001b[0;34m(\u001b[0m\u001b[0mright\u001b[0m\u001b[0;34m,\u001b[0m \u001b[0mindex\u001b[0m\u001b[0;34m=\u001b[0m\u001b[0mleft\u001b[0m\u001b[0;34m.\u001b[0m\u001b[0mcolumns\u001b[0m\u001b[0;34m)\u001b[0m\u001b[0;34m\u001b[0m\u001b[0;34m\u001b[0m\u001b[0m\n",
      "\u001b[0;31mValueError\u001b[0m: Unable to coerce to Series, length must be 1: given 119346"
     ]
    }
   ],
   "source": [
    "predict_catboost = catboost.predict(X_test)\n",
    "\n",
    "print(f\"MAPE: {(mape_log(y_test, predict_catboost))*100:0.2f}%\")"
   ]
  },
  {
   "cell_type": "code",
   "execution_count": 92,
   "metadata": {
    "execution": {
     "iopub.execute_input": "2022-09-13T19:19:10.036906Z",
     "iopub.status.busy": "2022-09-13T19:19:10.036481Z",
     "iopub.status.idle": "2022-09-13T19:19:10.046755Z",
     "shell.execute_reply": "2022-09-13T19:19:10.045641Z",
     "shell.execute_reply.started": "2022-09-13T19:19:10.036868Z"
    }
   },
   "outputs": [
    {
     "name": "stdout",
     "output_type": "stream",
     "text": [
      "MSE = 0.88, RMSE = 0.94\n"
     ]
    }
   ],
   "source": [
    "print_regression_metrics(y_test, predict_catboost)"
   ]
  },
  {
   "cell_type": "code",
   "execution_count": 93,
   "metadata": {
    "execution": {
     "iopub.execute_input": "2022-09-13T19:19:14.790393Z",
     "iopub.status.busy": "2022-09-13T19:19:14.789866Z",
     "iopub.status.idle": "2022-09-13T19:19:14.795688Z",
     "shell.execute_reply": "2022-09-13T19:19:14.794413Z",
     "shell.execute_reply.started": "2022-09-13T19:19:14.790348Z"
    }
   },
   "outputs": [],
   "source": [
    "model = LinearRegression()\n"
   ]
  },
  {
   "cell_type": "code",
   "execution_count": 94,
   "metadata": {
    "execution": {
     "iopub.execute_input": "2022-09-13T19:19:18.642130Z",
     "iopub.status.busy": "2022-09-13T19:19:18.641443Z",
     "iopub.status.idle": "2022-09-13T19:19:18.690154Z",
     "shell.execute_reply": "2022-09-13T19:19:18.689006Z",
     "shell.execute_reply.started": "2022-09-13T19:19:18.642079Z"
    }
   },
   "outputs": [
    {
     "data": {
      "text/plain": [
       "LinearRegression()"
      ]
     },
     "execution_count": 94,
     "metadata": {},
     "output_type": "execute_result"
    }
   ],
   "source": [
    "model.fit(X_train, y_train)"
   ]
  },
  {
   "cell_type": "code",
   "execution_count": 95,
   "metadata": {
    "execution": {
     "iopub.execute_input": "2022-09-13T19:19:21.178659Z",
     "iopub.status.busy": "2022-09-13T19:19:21.178233Z",
     "iopub.status.idle": "2022-09-13T19:19:21.189353Z",
     "shell.execute_reply": "2022-09-13T19:19:21.187753Z",
     "shell.execute_reply.started": "2022-09-13T19:19:21.178623Z"
    }
   },
   "outputs": [],
   "source": [
    "y_pred = model.predict(X_test)\n"
   ]
  },
  {
   "cell_type": "code",
   "execution_count": 96,
   "metadata": {
    "execution": {
     "iopub.execute_input": "2022-09-13T19:19:25.097254Z",
     "iopub.status.busy": "2022-09-13T19:19:25.096786Z",
     "iopub.status.idle": "2022-09-13T19:19:25.103123Z",
     "shell.execute_reply": "2022-09-13T19:19:25.101692Z",
     "shell.execute_reply.started": "2022-09-13T19:19:25.097217Z"
    }
   },
   "outputs": [],
   "source": [
    "from sklearn import metrics"
   ]
  },
  {
   "cell_type": "code",
   "execution_count": 97,
   "metadata": {
    "execution": {
     "iopub.execute_input": "2022-09-13T19:19:27.442815Z",
     "iopub.status.busy": "2022-09-13T19:19:27.441986Z",
     "iopub.status.idle": "2022-09-13T19:19:27.450874Z",
     "shell.execute_reply": "2022-09-13T19:19:27.449739Z",
     "shell.execute_reply.started": "2022-09-13T19:19:27.442772Z"
    }
   },
   "outputs": [
    {
     "name": "stdout",
     "output_type": "stream",
     "text": [
      "Root Mean Squared Error (RMSE): 1.03604118589327\n"
     ]
    }
   ],
   "source": [
    "print('Root Mean Squared Error (RMSE):', np.sqrt(metrics.mean_squared_error(y_test, y_pred)))\n"
   ]
  },
  {
   "cell_type": "code",
   "execution_count": 98,
   "metadata": {
    "execution": {
     "iopub.execute_input": "2022-09-13T19:19:31.054395Z",
     "iopub.status.busy": "2022-09-13T19:19:31.053999Z",
     "iopub.status.idle": "2022-09-13T19:19:31.065166Z",
     "shell.execute_reply": "2022-09-13T19:19:31.063661Z",
     "shell.execute_reply.started": "2022-09-13T19:19:31.054362Z"
    }
   },
   "outputs": [
    {
     "name": "stdout",
     "output_type": "stream",
     "text": [
      "R2: 0.19\n"
     ]
    }
   ],
   "source": [
    "print('R2:', np.round(metrics.r2_score(y_test, y_pred), 2))"
   ]
  }
 ],
 "metadata": {
  "kernelspec": {
   "display_name": "Python 3",
   "language": "python",
   "name": "python3"
  },
  "language_info": {
   "codemirror_mode": {
    "name": "ipython",
    "version": 3
   },
   "file_extension": ".py",
   "mimetype": "text/x-python",
   "name": "python",
   "nbconvert_exporter": "python",
   "pygments_lexer": "ipython3",
   "version": "3.8.8"
  }
 },
 "nbformat": 4,
 "nbformat_minor": 4
}
